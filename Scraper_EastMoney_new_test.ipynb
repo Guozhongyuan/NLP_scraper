{
 "cells": [
  {
   "cell_type": "code",
   "execution_count": null,
   "metadata": {},
   "outputs": [],
   "source": [
    "import json\n",
    "import time\n",
    "import requests\n",
    "import random\n",
    "from tqdm import tqdm"
   ]
  },
  {
   "cell_type": "code",
   "execution_count": null,
   "metadata": {},
   "outputs": [],
   "source": [
    "def get_url(time_0='2022-03-22', time_1='2022-03-23', pages=100):\n",
    "    url_list = []\n",
    "    for page in range(1, pages+1):\n",
    "        url = f\"https://reportapi.eastmoney.com/report/list?cb=datatable5008116&industryCode=*&pageSize=50&industry=*&rating=*&ratingChange=*&beginTime={time_0}&endTime={time_1}&pageNo={page}&fields=&qType=1&orgCode=&rcode=&p={page}&pageNum={page}&pageNumber={page}\"\n",
    "        url_list.append(url)\n",
    "    return url_list\n",
    "\n",
    "def get_report(url_list):\n",
    "    query_list = []\n",
    "    for i in tqdm(range(len(url_list))):\n",
    "        url = url_list[i]\n",
    "        res = requests.get(url)\n",
    "        res_text = res.text\n",
    "        res_text = res_text[17:-1]\n",
    "        res_js = json.loads(res_text)\n",
    "        if len(res_js['data'])==0:\n",
    "            break\n",
    "        query_list.extend(res_js['data'])\n",
    "    return query_list"
   ]
  },
  {
   "cell_type": "code",
   "execution_count": null,
   "metadata": {},
   "outputs": [],
   "source": [
    "url_list = get_url(time_0='2020-04-15', time_1='2022-04-15', pages=2000)"
   ]
  },
  {
   "cell_type": "code",
   "execution_count": null,
   "metadata": {},
   "outputs": [],
   "source": [
    "query_list = get_report(url_list[0:1])"
   ]
  },
  {
   "cell_type": "code",
   "execution_count": null,
   "metadata": {},
   "outputs": [],
   "source": [
    "query_list[0]"
   ]
  },
  {
   "cell_type": "code",
   "execution_count": null,
   "metadata": {},
   "outputs": [],
   "source": [
    "from bs4 import BeautifulSoup\n",
    "\n",
    "def get_content(text_link):\n",
    "\n",
    "    html = requests.get(text_link).content\n",
    "    soup = BeautifulSoup(html, \"lxml\")\n",
    "\n",
    "    res = soup.find('div', class_='ctx-content')\n",
    "    \n",
    "    if res != None:\n",
    "        content = [i.text for i in res.find_all('p')]\n",
    "        content = ''.join(content)\n",
    "        content = content.replace('\\u3000\\u3000', '')\n",
    "        content = content.replace('\\u3000\\u3000', '')\n",
    "        content = content.replace('\\r', '')\n",
    "        content = content.replace('\\n', '')\n",
    "        content = content.replace(' ', '')\n",
    "        return content\n",
    "\n",
    "    return None\n",
    "\n",
    "query = query_list[0]\n",
    "\n",
    "infoCode = query['infoCode']\n",
    "content_url = f\"https://data.eastmoney.com/report/zw_industry.jshtml?infocode={infoCode}\"\n",
    "content = get_content(content_url)\n",
    "query['content_url'] = content_url\n",
    "query['content'] = content"
   ]
  },
  {
   "cell_type": "code",
   "execution_count": null,
   "metadata": {},
   "outputs": [],
   "source": [
    "query"
   ]
  },
  {
   "cell_type": "code",
   "execution_count": null,
   "metadata": {},
   "outputs": [],
   "source": []
  },
  {
   "cell_type": "code",
   "execution_count": null,
   "metadata": {},
   "outputs": [],
   "source": [
    "import numpy as np\n",
    "\n",
    "data = np.load('files/eastmoney_ggyb.pkl', allow_pickle=True)"
   ]
  },
  {
   "cell_type": "code",
   "execution_count": null,
   "metadata": {},
   "outputs": [],
   "source": [
    "all = []\n",
    "names = []\n",
    "for item in data:\n",
    "    if item['stockName'] not in names:\n",
    "        names.append(item['stockName'])\n",
    "        all.append(\n",
    "            {\n",
    "                'stockName':item['stockName'],\n",
    "                'stockCode':item['stockCode'],\n",
    "                'indvInduCode':item['indvInduCode'],\n",
    "                'indvInduName':item['indvInduName'],\n",
    "            }\n",
    "        )"
   ]
  },
  {
   "cell_type": "code",
   "execution_count": null,
   "metadata": {},
   "outputs": [],
   "source": [
    "import pandas as pd\n",
    "\n",
    "df = pd.DataFrame(all)"
   ]
  },
  {
   "cell_type": "code",
   "execution_count": null,
   "metadata": {},
   "outputs": [],
   "source": [
    "df.head(10)"
   ]
  },
  {
   "cell_type": "code",
   "execution_count": null,
   "metadata": {},
   "outputs": [],
   "source": [
    "tmp = list(set(df['indvInduName']))"
   ]
  },
  {
   "cell_type": "code",
   "execution_count": null,
   "metadata": {},
   "outputs": [],
   "source": [
    "df['stockCode'] = df['stockCode'].astype(str)"
   ]
  },
  {
   "cell_type": "code",
   "execution_count": null,
   "metadata": {},
   "outputs": [],
   "source": [
    "df.to_csv('./files/stock_list.csv', index=None)"
   ]
  },
  {
   "cell_type": "code",
   "execution_count": 8,
   "metadata": {},
   "outputs": [],
   "source": [
    "import pandas as pd\n",
    "from tqdm import tqdm\n",
    "from bs4 import BeautifulSoup\n",
    "import requests\n",
    "\n",
    "df = pd.read_csv('./files/stock_list.csv')"
   ]
  },
  {
   "cell_type": "code",
   "execution_count": 4,
   "metadata": {},
   "outputs": [
    {
     "data": {
      "text/plain": [
       "2490"
      ]
     },
     "execution_count": 4,
     "metadata": {},
     "output_type": "execute_result"
    }
   ],
   "source": [
    "len(df)"
   ]
  },
  {
   "cell_type": "code",
   "execution_count": 100,
   "metadata": {},
   "outputs": [],
   "source": [
    "# for i in range(len(df)):\n",
    "\n",
    "stockCode = df.iloc[0]['stockCode']\n",
    "# content_url = f'http://f10.eastmoney.com/f10_v2/OperationsRequired.aspx?code=sh{stockCode}'\n",
    "content_url = f'http://f10.eastmoney.com/CoreConception/index?&code=SH{stockCode}'\n",
    "\n",
    "html = requests.get(content_url).content\n",
    "\n",
    "soup = BeautifulSoup(html, 'lxml')\n",
    "\n",
    "res = soup.findAll(name='p', class_='p_div')\n"
   ]
  },
  {
   "cell_type": "code",
   "execution_count": 101,
   "metadata": {},
   "outputs": [
    {
     "data": {
      "text/plain": [
       "[]"
      ]
     },
     "execution_count": 101,
     "metadata": {},
     "output_type": "execute_result"
    }
   ],
   "source": [
    "res"
   ]
  },
  {
   "cell_type": "code",
   "execution_count": 104,
   "metadata": {},
   "outputs": [
    {
     "data": {
      "text/html": [
       "<div>\n",
       "<style scoped>\n",
       "    .dataframe tbody tr th:only-of-type {\n",
       "        vertical-align: middle;\n",
       "    }\n",
       "\n",
       "    .dataframe tbody tr th {\n",
       "        vertical-align: top;\n",
       "    }\n",
       "\n",
       "    .dataframe thead th {\n",
       "        text-align: right;\n",
       "    }\n",
       "</style>\n",
       "<table border=\"1\" class=\"dataframe\">\n",
       "  <thead>\n",
       "    <tr style=\"text-align: right;\">\n",
       "      <th></th>\n",
       "      <th>stockName</th>\n",
       "      <th>stockCode</th>\n",
       "      <th>indvInduCode</th>\n",
       "      <th>indvInduName</th>\n",
       "    </tr>\n",
       "  </thead>\n",
       "  <tbody>\n",
       "    <tr>\n",
       "      <th>0</th>\n",
       "      <td>明阳智能</td>\n",
       "      <td>601615</td>\n",
       "      <td>1032.0</td>\n",
       "      <td>风电设备</td>\n",
       "    </tr>\n",
       "    <tr>\n",
       "      <th>1</th>\n",
       "      <td>帅丰电器</td>\n",
       "      <td>605336</td>\n",
       "      <td>456.0</td>\n",
       "      <td>家电行业</td>\n",
       "    </tr>\n",
       "    <tr>\n",
       "      <th>2</th>\n",
       "      <td>兆易创新</td>\n",
       "      <td>603986</td>\n",
       "      <td>1036.0</td>\n",
       "      <td>半导体</td>\n",
       "    </tr>\n",
       "    <tr>\n",
       "      <th>3</th>\n",
       "      <td>华纳药厂</td>\n",
       "      <td>688799</td>\n",
       "      <td>465.0</td>\n",
       "      <td>化学制药</td>\n",
       "    </tr>\n",
       "    <tr>\n",
       "      <th>4</th>\n",
       "      <td>英科再生</td>\n",
       "      <td>688087</td>\n",
       "      <td>454.0</td>\n",
       "      <td>塑料制品</td>\n",
       "    </tr>\n",
       "    <tr>\n",
       "      <th>...</th>\n",
       "      <td>...</td>\n",
       "      <td>...</td>\n",
       "      <td>...</td>\n",
       "      <td>...</td>\n",
       "    </tr>\n",
       "    <tr>\n",
       "      <th>2485</th>\n",
       "      <td>杰普特</td>\n",
       "      <td>688025</td>\n",
       "      <td>459.0</td>\n",
       "      <td>电子元件</td>\n",
       "    </tr>\n",
       "    <tr>\n",
       "      <th>2486</th>\n",
       "      <td>剑桥科技</td>\n",
       "      <td>603083</td>\n",
       "      <td>448.0</td>\n",
       "      <td>通信设备</td>\n",
       "    </tr>\n",
       "    <tr>\n",
       "      <th>2487</th>\n",
       "      <td>浙江富润</td>\n",
       "      <td>600070</td>\n",
       "      <td>447.0</td>\n",
       "      <td>电子信息</td>\n",
       "    </tr>\n",
       "    <tr>\n",
       "      <th>2488</th>\n",
       "      <td>众合科技</td>\n",
       "      <td>925</td>\n",
       "      <td>429.0</td>\n",
       "      <td>交运设备</td>\n",
       "    </tr>\n",
       "    <tr>\n",
       "      <th>2489</th>\n",
       "      <td>国星光电</td>\n",
       "      <td>2449</td>\n",
       "      <td>1038.0</td>\n",
       "      <td>光学光电子</td>\n",
       "    </tr>\n",
       "  </tbody>\n",
       "</table>\n",
       "<p>2490 rows × 4 columns</p>\n",
       "</div>"
      ],
      "text/plain": [
       "     stockName  stockCode  indvInduCode indvInduName\n",
       "0         明阳智能     601615        1032.0         风电设备\n",
       "1         帅丰电器     605336         456.0         家电行业\n",
       "2         兆易创新     603986        1036.0          半导体\n",
       "3         华纳药厂     688799         465.0         化学制药\n",
       "4         英科再生     688087         454.0         塑料制品\n",
       "...        ...        ...           ...          ...\n",
       "2485       杰普特     688025         459.0         电子元件\n",
       "2486      剑桥科技     603083         448.0         通信设备\n",
       "2487      浙江富润     600070         447.0         电子信息\n",
       "2488      众合科技        925         429.0         交运设备\n",
       "2489      国星光电       2449        1038.0        光学光电子\n",
       "\n",
       "[2490 rows x 4 columns]"
      ]
     },
     "execution_count": 104,
     "metadata": {},
     "output_type": "execute_result"
    }
   ],
   "source": [
    "df"
   ]
  },
  {
   "cell_type": "code",
   "execution_count": null,
   "metadata": {},
   "outputs": [],
   "source": []
  }
 ],
 "metadata": {
  "interpreter": {
   "hash": "cd495f9cf51c55ca6e0a09c1b63ca3d581a6ff772fd59300e24bb21842a30a9f"
  },
  "kernelspec": {
   "display_name": "Python 3.8.12 ('lora')",
   "language": "python",
   "name": "python3"
  },
  "language_info": {
   "codemirror_mode": {
    "name": "ipython",
    "version": 3
   },
   "file_extension": ".py",
   "mimetype": "text/x-python",
   "name": "python",
   "nbconvert_exporter": "python",
   "pygments_lexer": "ipython3",
   "version": "3.8.12"
  },
  "orig_nbformat": 4
 },
 "nbformat": 4,
 "nbformat_minor": 2
}
