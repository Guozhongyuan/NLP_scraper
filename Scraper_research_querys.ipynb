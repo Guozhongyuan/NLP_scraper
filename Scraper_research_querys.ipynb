{
 "cells": [
  {
   "cell_type": "code",
   "execution_count": null,
   "metadata": {},
   "outputs": [],
   "source": [
    "import json\n",
    "import time\n",
    "import requests\n",
    "import random\n",
    "from tqdm import tqdm"
   ]
  },
  {
   "cell_type": "code",
   "execution_count": null,
   "metadata": {},
   "outputs": [],
   "source": [
    "# type = {\n",
    "#     \"clbg\": \"datatable7270063\",\n",
    "#     \"hgyj\": \"datatable1062280\",\n",
    "#     \"qscb\": \"datatable4594326\",\n",
    "#     \"ggyb\": \"datatable6061074\",\n",
    "#     \"xgyb\": \"datatable9433834\",\n",
    "#     \"hyyb\": \"datatable3735394\"\n",
    "# }\n",
    "\n",
    "# start_url1 = \"http://reportapi.eastmoney.com/report/jg?cb={cb}&pageSize=50&beginTime=2018-04-03&\" \\\n",
    "#                     \"endTime={time}&pageNo={page}&fields=&qType={type}&orgCode=&author=&_={timestamp}\"\n",
    "        \n",
    "# start_url2 = \"http://reportapi.eastmoney.com/report/list?cb={cb}&industryCode=*&pageSize=50&\" \\\n",
    "#                 \"industry=*&rating=&ratingChange=&beginTime=2018-04-03&endTime={time}&pageNo={page}&\" \\\n",
    "#                 \"fields=&qType={type}&orgCode=&code=*&rcode=&_={timestamp}\"\n",
    "\n",
    "# start_url3 = \"http://reportapi.eastmoney.com/report/newStockList?cb={cb}&pageSize=50&\" \\\n",
    "#                 \"beginTime=2018-04-03&endTime={time}&pageNo={page}&fields=&qType={type}&_={timestamp}\"\n",
    "\n",
    "# start_url4 = \"http://reportapi.eastmoney.com/report/list?cb={cb}&industryCode=*&pageSize=50&\" \\\n",
    "#                 \"industry=*&rating=*&ratingChange=*&beginTime=2018-04-03&endTime={time}&pageNo={page}&\" \\\n",
    "#                 \"fields=&qType={type}&orgCode=&rcode=&_={timestamp}\"\n"
   ]
  },
  {
   "cell_type": "code",
   "execution_count": null,
   "metadata": {},
   "outputs": [],
   "source": [
    "def get_url(time_0='2022-03-22', time_1='2022-03-23', pages=100):\n",
    "    url_list = []\n",
    "    for page in range(1, pages+1):\n",
    "        url = f\"https://reportapi.eastmoney.com/report/jg?cb=datatable6176985&pageSize=100&beginTime={time_0}&endTime={time_1}&pageNo={page}\"\n",
    "        url_list.append(url)\n",
    "    return url_list\n",
    "\n",
    "def get_report(url_list):\n",
    "    query_list = []\n",
    "    for i in tqdm(range(len(url_list))):\n",
    "        url = url_list[i]\n",
    "        res = requests.get(url)\n",
    "        res_text = res.text\n",
    "        res_text = res_text[17:-1]\n",
    "        res_js = json.loads(res_text)\n",
    "        if len(res_js['data'])==0:\n",
    "            break\n",
    "        query_list.extend(res_js['data'])\n",
    "        # time.sleep(random.uniform(1,2))\n",
    "    return query_list"
   ]
  },
  {
   "cell_type": "code",
   "execution_count": null,
   "metadata": {},
   "outputs": [],
   "source": [
    "url_list = get_url(time_0='2020-04-15', time_1='2022-04-15', pages=10000)"
   ]
  },
  {
   "cell_type": "code",
   "execution_count": null,
   "metadata": {},
   "outputs": [],
   "source": [
    "query_list = get_report(url_list)"
   ]
  },
  {
   "cell_type": "code",
   "execution_count": null,
   "metadata": {},
   "outputs": [],
   "source": [
    "import pickle\n",
    "\n",
    "with open('./files/eastmoney_querys.pkl', 'wb') as f:\n",
    "    pickle.dump(query_list, f)"
   ]
  },
  {
   "cell_type": "code",
   "execution_count": null,
   "metadata": {},
   "outputs": [],
   "source": [
    "print(len(query_list))\n",
    "print(query_list[-1])"
   ]
  },
  {
   "cell_type": "code",
   "execution_count": null,
   "metadata": {},
   "outputs": [],
   "source": [
    "from bs4 import BeautifulSoup\n",
    "\n",
    "def get_content(text_link):\n",
    "\n",
    "    html = requests.get(text_link).content\n",
    "    soup = BeautifulSoup(html, \"lxml\")\n",
    "\n",
    "    # different classname\n",
    "    # class_name = {\n",
    "    #     '个股研报': 'newsContent', https://data.eastmoney.com/report/stock.jshtml, https://data.eastmoney.com/report/info/AP202204151559481399.html\n",
    "    #     '新股研报': 'newsContent',\n",
    "    #     '行业研报': 'ctx-content', https://data.eastmoney.com/report/industry.jshtml, \n",
    "    #     '宏观研究': 'ctx-content', https://data.eastmoney.com/report/macresearch.jshtml, \n",
    "    #     '策略报告': 'ctx-content', https://data.eastmoney.com/report/strategyreport.jshtml, \n",
    "    #     '券商晨报': 'ctx-content', https://data.eastmoney.com/report/brokerreport.jshtml, \n",
    "    # }\n",
    "\n",
    "    res = {\n",
    "        'ctx-content': soup.find('div', class_='ctx-content'),\n",
    "        'newsContent': soup.find('div', class_='newsContent'),\n",
    "    }\n",
    "    \n",
    "    for key in res.keys():\n",
    "        if res[key] != None:\n",
    "            content = [i.text for i in res[key].find_all('p')]\n",
    "            content = ''.join(content)\n",
    "            content = content.replace('\\u3000\\u3000', '')\n",
    "            content = content.replace('\\u3000\\u3000', '')\n",
    "            content = content.replace('\\r', '')\n",
    "            content = content.replace(' ', '')\n",
    "            return key, content\n",
    "\n",
    "    return None, None"
   ]
  },
  {
   "cell_type": "code",
   "execution_count": 47,
   "metadata": {},
   "outputs": [
    {
     "data": {
      "text/plain": [
       "'mmD7f5NqJBTBwSg71cJspfA/SR3oQR9xI/e5QEHzkG4='"
      ]
     },
     "execution_count": 47,
     "metadata": {},
     "output_type": "execute_result"
    }
   ],
   "source": [
    "query_list[0]['encodeUrl']"
   ]
  },
  {
   "cell_type": "code",
   "execution_count": null,
   "metadata": {},
   "outputs": [],
   "source": [
    "# 单线程\n",
    "for query in tqdm(query_list):\n",
    "    encodeUrl = query['encodeUrl']\n",
    "    content_url = f'https://data.eastmoney.com/report/zw_macresearch.jshtml?encodeUrl={encodeUrl}'\n",
    "    key, content = get_content(content_url)\n",
    "    query['content_url'] = content_url\n",
    "    query['key'] = key\n",
    "    query['content'] = content\n",
    "    all.append(query)"
   ]
  },
  {
   "cell_type": "code",
   "execution_count": 2,
   "metadata": {},
   "outputs": [],
   "source": [
    "import numpy as np\n",
    "\n",
    "query_list = np.load('./files/eastmoney_querys.pkl', allow_pickle=True)\n",
    "researchs = np.load('./files/eastmoney_researchs.pkl', allow_pickle=True)"
   ]
  },
  {
   "cell_type": "code",
   "execution_count": 38,
   "metadata": {},
   "outputs": [
    {
     "name": "stdout",
     "output_type": "stream",
     "text": [
      "152291\n"
     ]
    }
   ],
   "source": [
    "print(len(query_list))"
   ]
  },
  {
   "cell_type": "code",
   "execution_count": 3,
   "metadata": {},
   "outputs": [
    {
     "data": {
      "text/plain": [
       "152291"
      ]
     },
     "execution_count": 3,
     "metadata": {},
     "output_type": "execute_result"
    }
   ],
   "source": [
    "len(researchs)"
   ]
  },
  {
   "cell_type": "code",
   "execution_count": 39,
   "metadata": {},
   "outputs": [],
   "source": [
    "num = 0\n",
    "for item in researchs:\n",
    "    if item['content']!=None:\n",
    "        num = num + 1"
   ]
  },
  {
   "cell_type": "code",
   "execution_count": 40,
   "metadata": {},
   "outputs": [
    {
     "data": {
      "text/plain": [
       "152282"
      ]
     },
     "execution_count": 40,
     "metadata": {},
     "output_type": "execute_result"
    }
   ],
   "source": [
    "num"
   ]
  },
  {
   "cell_type": "code",
   "execution_count": 46,
   "metadata": {},
   "outputs": [
    {
     "data": {
      "text/plain": [
       "{'id': 173000005436826449,\n",
       " 'title': '锂电产业行业专题报告：隔膜产品日益紧俏，行业扩产节奏加快',\n",
       " 'author': ['11000390722.刘杰'],\n",
       " 'orgName': '英大证券有限责任公司',\n",
       " 'orgCode': '80000085',\n",
       " 'orgSName': '英大证券',\n",
       " 'publishDate': '2022-04-15 00:00:00.000',\n",
       " 'encodeUrl': 'mmD7f5NqJBTBwSg71cJspalesP36rHaAnRkNIi5jXME=',\n",
       " 'researcher': '刘杰',\n",
       " 'market': '',\n",
       " 'industryCode': '1033',\n",
       " 'industryName': '电池',\n",
       " 'authorID': ['11000390722'],\n",
       " 'orgType': 'white',\n",
       " 'content_url': 'https://data.eastmoney.com/report/zw_macresearch.jshtml?encodeUrl=mmD7f5NqJBTBwSg71cJspalesP36rHaAnRkNIi5jXME=',\n",
       " 'key': 'ctx-content',\n",
       " 'content': '行业视点隔膜是锂电池关键原材料之一。隔膜是锂离子电池产业链中最具技术壁垒的关键内层组件。隔膜在电池中成本占比约为10%，隔膜的成本包括了原料成本、能源成本、人工成本及折旧摊销等。其中原料成本占比最大，约为41%；能源成本主要包括水电费用，占比18%；隔膜设备成本高，导致折旧摊销占比高，达到23%。隔膜是四大材料中格局最优的赛道。高壁垒下行业集中度高，龙头盈利能力强。由于行业壁垒较高，隔膜行业集中度高于其他锂电材料，2020年CR3达62%，CR6达80%，高于其余锂电材料。盈利能力上，隔膜毛利率也高于正极、负极、电解液，处于较高水平。锂电隔膜行业具备高度的行业壁垒。锂电池隔膜属于技术密集型行业，需要长期技术积累。隔膜项目需投入大量资金，一亿平隔膜项目投资在3.6亿元左右，设备投资占比在50%以上。目前隔膜设备均由隔膜厂商根据生产情况与设备厂商共同设计定制，头部隔膜企业已与主要隔膜设备厂商绑定。目前隔膜生产设备供应存在瓶颈，是目前隔膜扩产中比较大的制约因素，导致扩产周期约需2-3年。隔膜行业客户壁垒较高，认证时间长，一般情况下整体认证期大概需要1-2年，且认证后不易更换供应商，合作关系稳定。隔膜湿法工艺占据主流技术路线。隔膜基膜制造根据微孔成孔机理主要分干法和湿法两种。干法隔膜的核心优势在于成本更低，但干法工艺生产的横向强度较差、微孔尺寸和分布不均匀，稳定性较差；湿法隔膜更能提高锂电池能量密度，一般用于制造高端薄膜。但湿法工艺成本高、投资大。湿法隔膜市场占比持续提升，2021年动力市场持续超预期的表现叠加湿法隔膜新增产能持续释放，湿法隔膜牢牢占据市场主导地位，市场占比达74%。隔膜市场集中度将不断提升。全球隔膜产能不断向中国集中，中国市场不断向头部企业靠拢。全球隔膜竞争格局由四个国家主导，中国、韩国、日本和美国拥有市场份额分别为43%、28%、21%和6%，根据高工锂电统计，2021年中国锂电隔膜TOP6企业市场占比为80.8%，较2020年有所提升。在湿法隔膜方面，湿法隔膜呈现出‘一超多强’的行业格局，恩捷股份在湿法隔膜的市场占有率超过50%。在干法隔膜方面，整体呈现出‘三足鼎立’的市场格局。第一梯队中兴新材、星源材质、惠强新材市场占有率稳步提升，2021年干法隔膜市场CR3接近70%。隔膜供需紧平衡，隔膜企业扩产加速。全球新能车和储能市场爆发性增长，带动上游锂电隔膜需求。根据EVTank数据，2021年，全球锂离子电池总体出货量562.4GWh，同比大幅增长91.0%；2021年中国锂电隔膜出货量78亿平米，同比增长超100%。需求方面，我们测算2022-2025年全球锂电池需求预计分别为813.45、1200.93、1805.29、2757.34GWh，对应隔膜需求分别为115.92亿平米、171.13亿平米、257.25亿平米、392.92亿平米，隔膜需求增速分别为44.6%、47.6%、50.3%、52.7%。供给方面，头部企业纷纷宣布扩产，据高工锂电不完全统计，2021年国内隔膜企业规划扩建产能（含涂覆产能）约220亿平方米，投资总金额超560亿元，隔膜企业TOP10现有及规划产能合计已超438亿平米。供需逆转，隔膜价格呈现上涨趋势。国内隔膜供需关系逐步转变为供不应求，主流锂电隔膜企业供给与需求紧平衡，头部隔膜企业几乎满产满销，二梯队企业产能利用率提升。叠加疫情影响，锂电池隔膜行业开工率降低，对供给造成一定程度影响，2022年2月锂电池隔膜行业开工率为61.29%，环比下降10.99%。隔膜原料聚乙烯PE占原材料比重高，高密度聚乙烯现货价由2020年年初的846美元/吨上涨到目前的1241美元/吨，整体价格上涨幅度较大。2021年干法、湿法隔膜价格上升，干法隔膜上升幅度5~10%，湿法隔膜上升幅度10~15%。2022年之后锂电池需求增长迅速，带动隔膜需求大涨，叠加全国疫情突发，各地防疫政策升级，隔膜主要产地均受到一定程度的影响，隔膜供给逐渐满足不了下游需求，隔膜行业供需紧张的情况进一步放大。同时受到国际油价大幅上涨的影响，隔膜原材料市场价格相应上涨，目前隔膜价格整体保持平稳，后续仍有上涨预期。各大隔膜厂商受益于行业需求旺盛，产能加速释放，随着隔膜出货规模的扩大，隔膜企业单位成本下降明显，叠加客户结构优化，盈利能力提升趋势明显。投资建议：隔膜龙头企业坐拥设备优势、产能优势、技术优势、成本优势、客户优势，在行业紧平衡的背景下将迎来量价齐升。隔膜龙头强者恒强，头部厂商规模和技术优势突出，寡头格局日渐清晰，同时与设备端公司长期合作，锁定设备厂商未来3年产能，产能扩张优势明显；在客户方面，电池厂商对隔膜厂商整体认证期大概需要1-2年，且认证后不易更换供应商，后来者打入电池厂商供应链难度大。建议重点关注恩捷股份、星源材质。风险因素需求增速不达预期、政策变动风险、产业链竞争格局恶化'}"
      ]
     },
     "execution_count": 46,
     "metadata": {},
     "output_type": "execute_result"
    }
   ],
   "source": [
    "researchs[15]"
   ]
  }
 ],
 "metadata": {
  "interpreter": {
   "hash": "cd495f9cf51c55ca6e0a09c1b63ca3d581a6ff772fd59300e24bb21842a30a9f"
  },
  "kernelspec": {
   "display_name": "Python 3.8.12 ('lora')",
   "language": "python",
   "name": "python3"
  },
  "language_info": {
   "codemirror_mode": {
    "name": "ipython",
    "version": 3
   },
   "file_extension": ".py",
   "mimetype": "text/x-python",
   "name": "python",
   "nbconvert_exporter": "python",
   "pygments_lexer": "ipython3",
   "version": "3.8.12"
  },
  "orig_nbformat": 4
 },
 "nbformat": 4,
 "nbformat_minor": 2
}
