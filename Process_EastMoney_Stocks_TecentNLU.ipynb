{
 "cells": [
  {
   "cell_type": "code",
   "execution_count": 31,
   "metadata": {},
   "outputs": [
    {
     "name": "stderr",
     "output_type": "stream",
     "text": [
      "100%|██████████| 4014/4014 [00:00<00:00, 5738.91it/s]\n"
     ]
    }
   ],
   "source": [
    "# 1. convert from many txt files to one pkl file\n",
    "\n",
    "import os\n",
    "from tqdm import tqdm\n",
    "import csv\n",
    "import pickle\n",
    "\n",
    "txts_path = \"./save_stocks\"\n",
    "\n",
    "txt_paths = []\n",
    "for root, dirs, files in os.walk(txts_path):\n",
    "    for file in files:\n",
    "        txt_paths.append(root + \"/\" + file)\n",
    "\n",
    "# 2022 data\n",
    "all = []\n",
    "for path in tqdm(txt_paths):\n",
    "    with open(path, \"r\", encoding='utf-8') as f:\n",
    "        data = f.readlines()\n",
    "        one = {}\n",
    "        one['time'] = data[14].replace('\\n', '')\n",
    "        one['ticker_id'] = data[1].replace('\\n', '')\n",
    "        one['ticker_name'] = data[2].replace('\\n', '')\n",
    "        one['ticker_class'] = data[13].replace('\\n', '')\n",
    "        one['ticker_grade'] = [data[5].replace('\\n', ''), data[6].replace('\\n', '')]\n",
    "        one['text_title'] = data[4].replace('\\n', '')\n",
    "        one['text_content'] = \"\".join(data[15:]).replace('\\n', '').replace(' ', '').replace('\\u3000\\u3000', '')\n",
    "        all.append(one)\n",
    "\n",
    "with open(\"./files/eastmoney_stocks.pkl\",\"wb\") as f:\n",
    "    pickle.dump(all, f)"
   ]
  },
  {
   "cell_type": "code",
   "execution_count": null,
   "metadata": {},
   "outputs": [],
   "source": []
  },
  {
   "cell_type": "code",
   "execution_count": 1,
   "metadata": {},
   "outputs": [
    {
     "name": "stdout",
     "output_type": "stream",
     "text": [
      "4014\n"
     ]
    },
    {
     "name": "stderr",
     "output_type": "stream",
     "text": [
      "100%|██████████| 4014/4014 [14:46<00:00,  4.53it/s]\n"
     ]
    }
   ],
   "source": [
    "# use tecent to analyze\n",
    "\n",
    "import pandas as pd\n",
    "from tqdm import tqdm\n",
    "from utils.tecent_utils import TecentNLU\n",
    "import pickle\n",
    "\n",
    "with open(\"./files/eastmoney_stocks.pkl\",\"rb\") as f:\n",
    "    data = pickle.load(f)\n",
    "\n",
    "print(len(data))\n",
    "\n",
    "config = {\n",
    "    'SecretId': 'AKIDlMhlY5LK2TdXBYfV4MO9droVv4vWrugB',\n",
    "    'SecretKey': 'GFxOYS7VdT2KM8cpqa3E8l7C0Zsue9OL',\n",
    "}\n",
    "\n",
    "nlu_tool = TecentNLU(config)\n",
    "\n",
    "all = []\n",
    "for one in tqdm(data):\n",
    "\n",
    "    title = one['text_title']\n",
    "    content = one['text_content']\n",
    "\n",
    "    resp = nlu_tool.get_keywords(title + content)\n",
    "\n",
    "    one['text_keyword'] = resp.Keywords\n",
    "\n",
    "    all.append(one)\n",
    "\n",
    "\n",
    "with open(\"./files/eastmoney_stocks_nlu_tencent.pkl\", \"wb\") as f:\n",
    "    pickle.dump(all, f)"
   ]
  },
  {
   "cell_type": "code",
   "execution_count": 2,
   "metadata": {},
   "outputs": [],
   "source": [
    "with open(\"./files/eastmoney_stocks_nlu_tencent.pkl\", \"rb\") as f:\n",
    "    all = pickle.load(f)"
   ]
  },
  {
   "cell_type": "code",
   "execution_count": 3,
   "metadata": {},
   "outputs": [
    {
     "name": "stdout",
     "output_type": "stream",
     "text": [
      "[{\"Score\": 1.0, \"Word\": \"风电\"}, {\"Score\": 0.53848684, \"Word\": \"公司\"}, {\"Score\": 0.46576723, \"Word\": \"法兰\"}, {\"Score\": 0.37026036, \"Word\": \"轴承\"}, {\"Score\": 0.36633912, \"Word\": \"产品\"}, {\"Score\": 0.3642139, \"Word\": \"塔筒\"}, {\"Score\": 0.3556444, \"Word\": \"全球\"}, {\"Score\": 0.31793293, \"Word\": \"业务\"}, {\"Score\": 0.31336677, \"Word\": \"规模\"}, {\"Score\": 0.29464257, \"Word\": \"供应商\"}, {\"Score\": 0.24757455, \"Word\": \"行业\"}, {\"Score\": 0.24658276, \"Word\": \"业绩\"}, {\"Score\": 0.24550745, \"Word\": \"锻件\"}, {\"Score\": 0.22731256, \"Word\": \"快速增长\"}, {\"Score\": 0.20161527, \"Word\": \"曲线\"}, {\"Score\": 0.19503161, \"Word\": \"龙头\"}, {\"Score\": 0.19059598, \"Word\": \"优势\"}, {\"Score\": 0.18625997, \"Word\": \"成长\"}, {\"Score\": 0.18403308, \"Word\": \"净利润\"}, {\"Score\": 0.17508781, \"Word\": \"我国\"}, {\"Score\": 0.1592977, \"Word\": \"股份\"}, {\"Score\": 0.1591115, \"Word\": \"恒润\"}, {\"Score\": 0.14932588, \"Word\": \"金风\"}, {\"Score\": 0.14914069, \"Word\": \"重山\"}, {\"Score\": 0.1490696, \"Word\": \"科技\"}, {\"Score\": 0.1487531, \"Word\": \"韩国\"}, {\"Score\": 0.14785889, \"Word\": \"三星重工\"}, {\"Score\": 0.14620148, \"Word\": \"阿尔斯通\"}, {\"Score\": 0.14514768, \"Word\": \"上海电气\"}, {\"Score\": 0.144106, \"Word\": \"美飒\"}]\n"
     ]
    }
   ],
   "source": [
    "idx = 10\n",
    "print(all[idx]['text_keyword'])\n"
   ]
  }
 ],
 "metadata": {
  "interpreter": {
   "hash": "cd495f9cf51c55ca6e0a09c1b63ca3d581a6ff772fd59300e24bb21842a30a9f"
  },
  "kernelspec": {
   "display_name": "Python 3.8.12 ('lora')",
   "language": "python",
   "name": "python3"
  },
  "language_info": {
   "codemirror_mode": {
    "name": "ipython",
    "version": 3
   },
   "file_extension": ".py",
   "mimetype": "text/x-python",
   "name": "python",
   "nbconvert_exporter": "python",
   "pygments_lexer": "ipython3",
   "version": "3.8.12"
  },
  "orig_nbformat": 4
 },
 "nbformat": 4,
 "nbformat_minor": 2
}
