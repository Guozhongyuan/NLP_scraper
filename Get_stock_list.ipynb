{
 "cells": [
  {
   "cell_type": "code",
   "execution_count": 1,
   "metadata": {},
   "outputs": [],
   "source": [
    "import pickle\n",
    "from multiprocessing.pool import Pool\n",
    "from utils.baidu_utils import get_baidu_pedia"
   ]
  },
  {
   "cell_type": "code",
   "execution_count": 3,
   "metadata": {},
   "outputs": [
    {
     "name": "stdout",
     "output_type": "stream",
     "text": [
      "1232\n"
     ]
    }
   ],
   "source": [
    "# hash\n",
    "\n",
    "import pickle\n",
    "\n",
    "with open(\"./files/eastmoney_stocks.pkl\",\"rb\") as f:\n",
    "    data = pickle.load(f)\n",
    "\n",
    "stock_dict = {}\n",
    "for one in data:\n",
    "    stock_dict[one['ticker_name']] = one['ticker_id']\n",
    "\n",
    "stocks = []\n",
    "for key in stock_dict.keys():\n",
    "    stocks.append(\n",
    "        {\n",
    "            'ticker_id': stock_dict[key],\n",
    "            'ticker_name': key,\n",
    "        }\n",
    "    )\n",
    "print(len(stocks))\n",
    "\n",
    "with open(\"./files/eastmoney_stocks_list.pkl\", \"wb\") as f:\n",
    "    pickle.dump(stocks, f)"
   ]
  },
  {
   "cell_type": "code",
   "execution_count": 6,
   "metadata": {},
   "outputs": [
    {
     "name": "stdout",
     "output_type": "stream",
     "text": [
      "1232\n",
      "{'ticker_id': '603987', 'ticker_name': '康德莱'}\n"
     ]
    }
   ],
   "source": [
    "import pickle\n",
    "\n",
    "with open(\"./files/eastmoney_stocks_list.pkl\",\"rb\") as f:\n",
    "    data = pickle.load(f)\n",
    "    \n",
    "print(len(data))\n",
    "print(data[0])"
   ]
  },
  {
   "cell_type": "code",
   "execution_count": 7,
   "metadata": {},
   "outputs": [
    {
     "name": "stdout",
     "output_type": "stream",
     "text": [
      "{'ticker_id': '603987', 'ticker_name': '康德莱', 'baike_summary': '浙江康德莱医疗器械股份有限公司成立于1987年，是康德莱集团属下一家专业生产一次性针类系列医疗器械的制造厂家。主要是生产加工,经销批发医疗器械。', 'baike_content': '浙江康德莱医疗器械股份有限公司成立于1987年，系康德莱集团属下一家专业生产一次性针类系列医疗器械的制造厂家。2009年度公司实现产值26656万元，出口创汇超6220万元，实现利税4848万元。公司拥有十万级净化车间七千多平方米,是浙江省“高新技术企业”，浙江省AAA信用单位；公司生产的“一次性使用采血针”获得了省高新技术产品称号，“一次性使用无菌注射针”获得浙江省名牌产品称号。公司现具有年产60亿支各类医用针尖、30亿支一次性使用注射针的能力，为国内同行前列。公司以科学的管理、先进的技术、齐全的品种、高档的质量、优质的服务赢得了国内外广大用户的青睐，于1998年在同行业首家通过CMDC认证后，又先后通欧盟TUV和美国FDA工厂审核。产品不仅销往全国各地，还远销美国、欧洲、南美、非洲、中东、东南亚等数十个国家和地区，出口达30多个品种，在国际市场占据了一定的份额。康德莱集团现担任中国医疗器械协会高分子分会理事长单位，总裁张宪淼先生是医疗器械高分子分会理事长，浙江康德莱股份公司担任中国注射器、针标准化技术委员会主任单位。现行的 “制造医疗器械用不锈钢针管”、“一次性使用血样采集针”、“一次性使用牙科注射针”、“一次性使用静脉输液针”等国家标准和行业标准均由公司承担起草。康德莱正以共生理念为指导，以“创造KDL名牌，取信亿万用户”为质量方针，以造福人类为宗旨，以满足客户的需求为目标而不懈追求，努力挤身全球医用针制造行业三强之列。2020年1月20日，评为2019 年度温州市市长质量奖企业。[1]2021年10月，入选2021年浙江省省级新一代信息技术与制造业融合发展试点示范企业名单（网络协同制造方向）。[2]', 'baike_url': 'https://baike.baidu.com/item/康德莱'}\n"
     ]
    }
   ],
   "source": [
    "# eastmoney full_stock_list\n",
    "\n",
    "import pickle\n",
    "\n",
    "with open(\"./files/eastmoney_full_stocks_list.pkl\",\"rb\") as f:\n",
    "    data = pickle.load(f)\n",
    "\n",
    "for one in data:\n",
    "    if 'baike_summary' in one.keys():\n",
    "        print(one)\n",
    "    break"
   ]
  },
  {
   "cell_type": "code",
   "execution_count": 20,
   "metadata": {},
   "outputs": [
    {
     "name": "stdout",
     "output_type": "stream",
     "text": [
      "1232\n"
     ]
    },
    {
     "name": "stderr",
     "output_type": "stream",
     "text": [
      " 77%|███████▋  | 947/1232 [01:56<03:47,  1.25it/s]"
     ]
    },
    {
     "name": "stdout",
     "output_type": "stream",
     "text": [
      "[TencentCloudSDKException] code:InternalError message:内部服务错误，请稍后重试。 requestId:37aa978c-d198-4f49-bc3a-1af0e93090f0\n",
      "'NoneType' object has no attribute 'Keywords'\n"
     ]
    },
    {
     "name": "stderr",
     "output_type": "stream",
     "text": [
      " 80%|███████▉  | 984/1232 [02:20<02:44,  1.51it/s]"
     ]
    },
    {
     "name": "stdout",
     "output_type": "stream",
     "text": [
      "[TencentCloudSDKException] code:InternalError message:内部服务错误，请稍后重试。 requestId:3d69a2b3-82f1-418f-a182-40c9a27ed1e8\n",
      "'NoneType' object has no attribute 'Keywords'\n"
     ]
    },
    {
     "name": "stderr",
     "output_type": "stream",
     "text": [
      " 83%|████████▎ | 1019/1232 [02:40<02:39,  1.33it/s]"
     ]
    },
    {
     "name": "stdout",
     "output_type": "stream",
     "text": [
      "[TencentCloudSDKException] code:InternalError message:内部服务错误，请稍后重试。 requestId:8d6a184f-ff62-4499-8d0e-a6fb74dd608a\n",
      "'NoneType' object has no attribute 'Keywords'\n"
     ]
    },
    {
     "name": "stderr",
     "output_type": "stream",
     "text": [
      "100%|██████████| 1232/1232 [03:12<00:00,  6.41it/s]\n"
     ]
    }
   ],
   "source": [
    "# use tecent to analyze, 500 has baike information\n",
    "\n",
    "from tqdm import tqdm\n",
    "from utils.tecent_utils import TecentNLU\n",
    "import pickle\n",
    "import time\n",
    "\n",
    "with open(\"./files/eastmoney_full_stocks_list.pkl\",\"rb\") as f:\n",
    "    data = pickle.load(f)\n",
    "\n",
    "print(len(data))\n",
    "\n",
    "config = {\n",
    "    'SecretId': 'AKIDlMhlY5LK2TdXBYfV4MO9droVv4vWrugB',\n",
    "    'SecretKey': 'GFxOYS7VdT2KM8cpqa3E8l7C0Zsue9OL',\n",
    "}\n",
    "\n",
    "nlu_tool = TecentNLU(config)\n",
    "\n",
    "all = []\n",
    "for one in tqdm(data):\n",
    "    if 'baike_summary' in one.keys():\n",
    "        try:\n",
    "            baike_summary = one['baike_summary']\n",
    "            baike_content = one['baike_content']\n",
    "            input = (baike_summary + baike_content)[0:10000]  # 10000 limited\n",
    "            resp = nlu_tool.get_keywords(input)\n",
    "            one['text_keyword'] = resp.Keywords\n",
    "            all.append(one)\n",
    "            time.sleep(0.05)\n",
    "        except Exception as err:\n",
    "            print(err)\n",
    "\n",
    "with open(\"./files/eastmoney_full_stocks_list_nlu_tencent.pkl\", \"wb\") as f:\n",
    "    pickle.dump(all, f)"
   ]
  },
  {
   "cell_type": "code",
   "execution_count": 3,
   "metadata": {},
   "outputs": [
    {
     "name": "stdout",
     "output_type": "stream",
     "text": [
      "510\n",
      "603987 康德莱 [{\"Score\": 1.0, \"Word\": \"公司\"}, {\"Score\": 0.88982016, \"Word\": \"医疗器械\"}, {\"Score\": 0.69142354, \"Word\": \"浙江省\"}, {\"Score\": 0.6476816, \"Word\": \"针\"}, {\"Score\": 0.619902, \"Word\": \"注射针\"}, {\"Score\": 0.6144252, \"Word\": \"制造\"}, {\"Score\": 0.58027697, \"Word\": \"技术\"}, {\"Score\": 0.57011515, \"Word\": \"产品\"}, {\"Score\": 0.56897545, \"Word\": \"用户\"}, {\"Score\": 0.56668705, \"Word\": \"品种\"}, {\"Score\": 0.55956155, \"Word\": \"行业\"}, {\"Score\": 0.5518364, \"Word\": \"康德莱集团\"}, {\"Score\": 0.5193484, \"Word\": \"单位\"}, {\"Score\": 0.502113, \"Word\": \"企业\"}, {\"Score\": 0.45472413, \"Word\": \"高分子\"}, {\"Score\": 0.45368028, \"Word\": \"分会\"}, {\"Score\": 0.45321786, \"Word\": \"理事长\"}, {\"Score\": 0.39482775, \"Word\": \"高新技术\"}, {\"Score\": 0.3924612, \"Word\": \"厂家\"}, {\"Score\": 0.36895323, \"Word\": \"试点\"}, {\"Score\": 0.36446825, \"Word\": \"称号\"}, {\"Score\": 0.35745487, \"Word\": \"发展\"}, {\"Score\": 0.34765783, \"Word\": \"融合\"}, {\"Score\": 0.33645958, \"Word\": \"示范\"}, {\"Score\": 0.3358695, \"Word\": \"制造业\"}, {\"Score\": 0.33228558, \"Word\": \"系列\"}, {\"Score\": 0.32576707, \"Word\": \"非洲\"}, {\"Score\": 0.3225992, \"Word\": \"南美\"}, {\"Score\": 0.32228953, \"Word\": \"中东\"}, {\"Score\": 0.3219856, \"Word\": \"欧洲\"}]\n"
     ]
    }
   ],
   "source": [
    "import pickle\n",
    "\n",
    "with open(\"./files/eastmoney_full_stocks_list_nlu_tencent.pkl\",\"rb\") as f:\n",
    "    data = pickle.load(f)\n",
    "print(len(data))\n",
    "idx = 0\n",
    "print(data[idx]['ticker_id'], data[idx]['ticker_name'], data[idx]['text_keyword'])"
   ]
  }
 ],
 "metadata": {
  "interpreter": {
   "hash": "cd495f9cf51c55ca6e0a09c1b63ca3d581a6ff772fd59300e24bb21842a30a9f"
  },
  "kernelspec": {
   "display_name": "Python 3.8.12 ('lora')",
   "language": "python",
   "name": "python3"
  },
  "language_info": {
   "codemirror_mode": {
    "name": "ipython",
    "version": 3
   },
   "file_extension": ".py",
   "mimetype": "text/x-python",
   "name": "python",
   "nbconvert_exporter": "python",
   "pygments_lexer": "ipython3",
   "version": "3.8.12"
  },
  "orig_nbformat": 4
 },
 "nbformat": 4,
 "nbformat_minor": 2
}
