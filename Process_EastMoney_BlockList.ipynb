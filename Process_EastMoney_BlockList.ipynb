{
 "cells": [
  {
   "cell_type": "code",
   "execution_count": 2,
   "metadata": {},
   "outputs": [
    {
     "name": "stderr",
     "output_type": "stream",
     "text": [
      "100%|██████████| 4014/4014 [00:00<00:00, 97953.97it/s]\n"
     ]
    }
   ],
   "source": [
    "import pickle\n",
    "from tqdm import tqdm\n",
    "\n",
    "with open(\"./files/eastmoney_stocks_nlu_tencent.pkl\" , \"rb\") as f:\n",
    "    all= pickle.load(f)\n",
    "\n",
    "for one in tqdm(all):\n",
    "    keywords = list()\n",
    "    for item in one['text_keyword']:\n",
    "        keywords.append(\n",
    "            {\n",
    "                'Word': item.Word,\n",
    "                'Score': item.Score\n",
    "            }\n",
    "        )\n",
    "    one['text_keyword'] = keywords"
   ]
  },
  {
   "cell_type": "code",
   "execution_count": 12,
   "metadata": {},
   "outputs": [
    {
     "data": {
      "text/plain": [
       "[{'Word': '公司', 'Score': 1.0},\n",
       " {'Word': '针', 'Score': 0.81078094},\n",
       " {'Word': '产品', 'Score': 0.783096},\n",
       " {'Word': '市场', 'Score': 0.5837325},\n",
       " {'Word': '美容', 'Score': 0.4586016},\n",
       " {'Word': '空间', 'Score': 0.45451507},\n",
       " {'Word': '胰岛素', 'Score': 0.4260335},\n",
       " {'Word': '投资', 'Score': 0.3619656},\n",
       " {'Word': '胰岛素针', 'Score': 0.34349677},\n",
       " {'Word': '我国', 'Score': 0.34188142},\n",
       " {'Word': '市占率', 'Score': 0.31344372},\n",
       " {'Word': '性能', 'Score': 0.30346438},\n",
       " {'Word': '性价比', 'Score': 0.2967472},\n",
       " {'Word': '美容针', 'Score': 0.29229265},\n",
       " {'Word': '销量', 'Score': 0.26925898},\n",
       " {'Word': '留置', 'Score': 0.26456892},\n",
       " {'Word': '注射', 'Score': 0.26251858},\n",
       " {'Word': '出厂价格', 'Score': 0.25934556},\n",
       " {'Word': '优势', 'Score': 0.2578438},\n",
       " {'Word': '极具', 'Score': 0.2572231},\n",
       " {'Word': '价格', 'Score': 0.25176004},\n",
       " {'Word': '糖尿病', 'Score': 0.24945824},\n",
       " {'Word': '放量', 'Score': 0.24910808},\n",
       " {'Word': '钝针', 'Score': 0.24459867},\n",
       " {'Word': '稳定增长', 'Score': 0.2287872},\n",
       " {'Word': '包类', 'Score': 0.22435531},\n",
       " {'Word': '风险', 'Score': 0.22261816},\n",
       " {'Word': '注射器', 'Score': 0.22142698},\n",
       " {'Word': '区间', 'Score': 0.21695606},\n",
       " {'Word': '估值', 'Score': 0.21533296}]"
      ]
     },
     "execution_count": 12,
     "metadata": {},
     "output_type": "execute_result"
    }
   ],
   "source": [
    "all[0]['text_keyword']"
   ]
  },
  {
   "cell_type": "code",
   "execution_count": 13,
   "metadata": {},
   "outputs": [
    {
     "name": "stderr",
     "output_type": "stream",
     "text": [
      "100%|██████████| 4014/4014 [00:00<00:00, 66843.75it/s]\n"
     ]
    }
   ],
   "source": [
    "# all keywords dict {\"word\": num}\n",
    "\n",
    "sum_dict = {}\n",
    "\n",
    "for one in tqdm(all):\n",
    "    for i in one['text_keyword']:\n",
    "        if i['Score'] > 0.2:\n",
    "            if i['Word'] not in sum_dict.keys():\n",
    "                sum_dict[i['Word']] = 1\n",
    "            else:\n",
    "                sum_dict[i['Word']] = sum_dict[i['Word']] + 1"
   ]
  },
  {
   "cell_type": "code",
   "execution_count": 23,
   "metadata": {},
   "outputs": [
    {
     "name": "stdout",
     "output_type": "stream",
     "text": [
      "9179 keywords (score > 0.2)\n"
     ]
    }
   ],
   "source": [
    "print(len(sum_dict.keys()), 'keywords (score > 0.2)')"
   ]
  },
  {
   "cell_type": "code",
   "execution_count": null,
   "metadata": {},
   "outputs": [],
   "source": [
    "sum_sorted = sorted(sum_dict.items(), key=lambda d:d[1], reverse=True)\n",
    "\n",
    "for i in sum_sorted:\n",
    "    if i[1] > 100:\n",
    "        print(i[0], i[1])"
   ]
  },
  {
   "cell_type": "markdown",
   "metadata": {},
   "source": [
    "---\n",
    "### 1. For block list\n",
    "公司 3921\n",
    "产品 2082\n",
    "净利润 1962\n",
    "业绩 1905\n",
    "业务 1662\n",
    "行业 1561\n",
    "市场 1544\n",
    "风险 1521\n",
    "盈利 1109\n",
    "需求 1031\n",
    "项目 974\n",
    "评级 921\n",
    "领域 804\n",
    "能力 777\n",
    "客户 767\n",
    "优势 765\n",
    "技术 736\n",
    "收入 732\n",
    "布局 656\n",
    "价格 645\n",
    "增速 620\n",
    "投资 596\n",
    "空间 585\n",
    "品牌 577\n",
    "规模 573\n",
    "增长 566\n",
    "渠道 549\n",
    "核心 548\n",
    "全球 543\n",
    "企业 517\n",
    "成本 506\n",
    "方面 506\n",
    "全年 478\n",
    "龙头 463\n",
    "新能源 435\n",
    "发展 428\n",
    "预期 428\n",
    "利润 427\n",
    "影响 416\n",
    "订单 410\n",
    "疫情 406\n",
    "汽车 405\n",
    "平台 404\n",
    "战略 400\n",
    "原材料 369\n",
    "建设 363\n",
    "股权 339\n",
    "研发 327\n",
    "智能 320\n",
    "高端 315\n",
    "政策 309\n",
    "设备 305\n",
    "结构 299\n",
    "材料 287\n",
    "PE 280\n",
    "生产 277\n",
    "服务 258\n",
    "预告 251\n",
    "资产 250\n",
    "提升 247\n",
    "芯片 246\n",
    "整体 243\n",
    "毛利率 242\n",
    "提示 242\n",
    "公司业绩 239\n",
    "产业链 239\n",
    "科技 237\n",
    "股份 237\n",
    "计划 237\n",
    "销量 233\n",
    "激励 231\n",
    "管理 230\n",
    "数据 226\n",
    "目标 225\n",
    "系统 224\n",
    "水平 220\n",
    "产业 220\n",
    "电子 216\n",
    "中国 206\n",
    "半导体 202\n",
    "合作 200\n",
    "费用 194\n",
    "销售 187\n",
    "光伏 186\n",
    "板块 186\n",
    "能源 186\n",
    "资源 186\n",
    "成长 184\n",
    "趋势 180\n",
    "方案 180\n",
    "电池 177\n",
    "季度 174\n",
    "营销 170\n",
    "归母 169\n",
    "市占率 166\n",
    "年度 166\n",
    "营业收入 163\n",
    "品类 156\n",
    "我国 154\n",
    "消费 154\n",
    "快速增长 146\n",
    "周期 146\n",
    "基地 145\n",
    "估值 144\n",
    "车 143\n",
    "工业 142\n",
    "经营 141\n",
    "应用 139\n",
    "子公司 137\n",
    "首次 137\n",
    "模式 137\n",
    "公告 136\n",
    "新品 132\n",
    "阶段 131\n",
    "股价 129\n",
    "厂商 128\n",
    "压力 127\n",
    "质量 124\n",
    "基础 123\n",
    "股票 121\n",
    "因素 121\n",
    "系列 119\n",
    "快报 118\n",
    "数字 117\n",
    "区域 116\n",
    "气度 115\n",
    "竞争力 114\n",
    "供应商 114\n",
    "赛道 114\n",
    "波动 114\n",
    "零售 111\n",
    "资金 111\n",
    "情况 110\n",
    "国际 109\n",
    "运营 109\n",
    "价值 109\n",
    "员工 108\n",
    "地位 108\n",
    "股东 107\n",
    "传统 107\n",
    "EPS 107\n",
    "终端 107\n",
    "增量 106\n",
    "全国 106\n",
    "资本 104\n",
    "收益 104\n",
    "落地 104\n",
    "竞争 103\n",
    "车型 101\n",
    "渗透率 101\n",
    "效率 101"
   ]
  },
  {
   "cell_type": "markdown",
   "metadata": {},
   "source": [
    "---\n",
    "### 2. Bug:  \n",
    "Bug: cannot link to webdriver.  \n",
    "May because of the firewall.  \n",
    "Is there anyway to run apt-install in the container before running the eastmoney code?  \n",
    "\n",
    "Try new method: Scrape by url"
   ]
  },
  {
   "cell_type": "markdown",
   "metadata": {},
   "source": [
    "---\n",
    "### 3. An idea on finding stock:\n",
    "sentence similarity (maybe very slow, so locally)  \n",
    "For the dict, this method can provide the best recommand.  \n",
    "Have a try on jieba, can change to GPT or api."
   ]
  },
  {
   "cell_type": "code",
   "execution_count": 3,
   "metadata": {},
   "outputs": [
    {
     "name": "stderr",
     "output_type": "stream",
     "text": [
      "Building prefix dict from the default dictionary ...\n",
      "Loading model from cache C:\\Users\\GUO\\AppData\\Local\\Temp\\jieba.cache\n",
      "Loading model cost 0.675 seconds.\n",
      "Prefix dict has been built successfully.\n"
     ]
    },
    {
     "name": "stdout",
     "output_type": "stream",
     "text": [
      "0.8164965809277261\n"
     ]
    }
   ],
   "source": [
    "import jieba\n",
    "import numpy as np\n",
    "\n",
    "\n",
    "def cos_dist(vec1,vec2):\n",
    "    dist1=float(np.dot(vec1,vec2)/(np.linalg.norm(vec1)*np.linalg.norm(vec2)))\n",
    "    return dist1\n",
    "\n",
    "def get_word_vector(s1,s2):\n",
    "\n",
    "    # 分词\n",
    "    cut1 = jieba.cut(s1)\n",
    "    cut2 = jieba.cut(s2)\n",
    "    list_word1 = (','.join(cut1)).split(',')\n",
    "    list_word2 = (','.join(cut2)).split(',')\n",
    " \n",
    "    # 列出所有的词,取并集\n",
    "    key_word = list(set(list_word1 + list_word2))\n",
    "    # 给定形状和类型的用0填充的矩阵存储向量\n",
    "    word_vector1 = np.zeros(len(key_word))\n",
    "    word_vector2 = np.zeros(len(key_word))\n",
    " \n",
    "    # 计算词频\n",
    "    # 依次确定向量的每个位置的值\n",
    "    for i in range(len(key_word)):\n",
    "        # 遍历key_word中每个词在句子中的出现次数\n",
    "        for j in range(len(list_word1)):\n",
    "            if key_word[i] == list_word1[j]:\n",
    "                word_vector1[i] += 1\n",
    "        for k in range(len(list_word2)):\n",
    "            if key_word[i] == list_word2[k]:\n",
    "                word_vector2[i] += 1\n",
    "\n",
    "    return cos_dist(word_vector1, word_vector2)\n",
    "\n",
    "\n",
    "s1=\"很高兴见到你\"\n",
    "s2=\"我也很高兴见到你\"\n",
    "for i in range(100):\n",
    "    res = get_word_vector(s1, s2)\n",
    "print(res)"
   ]
  },
  {
   "cell_type": "code",
   "execution_count": 1,
   "metadata": {},
   "outputs": [
    {
     "name": "stderr",
     "output_type": "stream",
     "text": [
      "100%|██████████| 510/510 [00:00<00:00, 85029.81it/s]\n"
     ]
    }
   ],
   "source": [
    "import pickle\n",
    "from tqdm import tqdm\n",
    "import numpy as np\n",
    "\n",
    "with open(\"./files/eastmoney_full_stocks_list_nlu_tencent.pkl\" , \"rb\") as f:\n",
    "    all= pickle.load(f)\n",
    "\n",
    "for one in tqdm(all):\n",
    "    keywords = list()\n",
    "    for item in one['text_keyword']:\n",
    "        keywords.append(\n",
    "            {\n",
    "                'Word': item.Word,\n",
    "                'Score': item.Score\n",
    "            }\n",
    "        )\n",
    "    one['text_keyword'] = keywords"
   ]
  },
  {
   "cell_type": "code",
   "execution_count": 41,
   "metadata": {},
   "outputs": [
    {
     "data": {
      "text/plain": [
       "['航空航天', '相关', '的', '股票']"
      ]
     },
     "execution_count": 41,
     "metadata": {},
     "output_type": "execute_result"
    }
   ],
   "source": [
    "query = '航空航天相关的股票'\n",
    "res = jieba.cut(query)\n",
    "(','.join(res)).split(',')"
   ]
  },
  {
   "cell_type": "code",
   "execution_count": 47,
   "metadata": {},
   "outputs": [
    {
     "name": "stderr",
     "output_type": "stream",
     "text": [
      "100%|██████████| 510/510 [00:19<00:00, 26.44it/s]"
     ]
    },
    {
     "name": "stdout",
     "output_type": "stream",
     "text": [
      "\n",
      "Ticker:  海天味业\n",
      "Sentence Score:  0.4225771273642583\n",
      "Sentence Content:  以谦虚的态度倾听顾客的意见，注重各相关利益团体的反应，并适时调整经营策略、发展相关产品\n",
      "\n",
      "Ticker:  东方证券\n",
      "Sentence Score:  0.3952847075210474\n",
      "Sentence Content:  [21]场内股票期权场内股票期权业务是指买卖交易所上市的以股票为基础资产的期权合约\n",
      "\n",
      "Ticker:  招商证券\n",
      "Sentence Score:  0.3872983346207417\n",
      "Sentence Content:  以丰富的投资产品和相关服务满足客户的无限需要\n",
      "\n",
      "Ticker:  四维图新\n",
      "Sentence Score:  0.3713906763541037\n",
      "Sentence Content:  作为NDS协会的主要成员之一，公司着重于NDS相关软件的开发并提供高品质的编译服务\n",
      "\n",
      "Ticker:  福耀玻璃\n",
      "Sentence Score:  0.3683072416003338\n",
      "Sentence Content:  企业愿景为中国人做一片属于自己的玻璃！企业的使命要成为：全球客户的忠实伙伴同行业竞争者的行为典范全球员工的最佳雇主社会公众的品牌形象我们正在为汽车玻璃专业供应商树立典范企业的责任客户的任何要求都是我们的行动指南；研究、开发、同步设计走在时代的前沿；保质、保量、准时交付，成为客户的虚拟工厂\n"
     ]
    },
    {
     "name": "stderr",
     "output_type": "stream",
     "text": [
      "\n"
     ]
    }
   ],
   "source": [
    "query = '航空航天相关的股票'\n",
    "\n",
    "query_dict = dict()\n",
    "\n",
    "for one in tqdm(all):\n",
    "    scores = []\n",
    "    sentences = one['baike_content'].split('。')\n",
    "    for sentence in sentences:\n",
    "        score = get_word_vector(sentence, query)\n",
    "        scores.append(score)\n",
    "    query_dict[one['ticker_name']] = {\n",
    "        'sentences': sentences,\n",
    "        'scores': scores,\n",
    "        'score_max': np.max(scores),\n",
    "        'score_mean': np.mean(scores),  # should block some and then choose\n",
    "        'api_keywords': one['text_keyword'],\n",
    "    }\n",
    "\n",
    "# sort by max score\n",
    "query_sorted = sorted(query_dict.items(), key=lambda d:d[1]['score_max'], reverse=True)\n",
    "\n",
    "num = 0\n",
    "for i in query_sorted:\n",
    "    ticker = i[0]\n",
    "    print()\n",
    "    print('Ticker: ',  ticker)\n",
    "    print('Sentence Score: ', query_dict[ticker]['score_max'])\n",
    "    print('Sentence Content: ', query_dict[ticker]['sentences'][np.argmax(query_dict[ticker]['scores'])])\n",
    "    # print(query_dict[ticker]['sentences'])\n",
    "    num = num + 1\n",
    "    if num >= 5:\n",
    "        break"
   ]
  },
  {
   "cell_type": "code",
   "execution_count": 11,
   "metadata": {},
   "outputs": [
    {
     "name": "stderr",
     "output_type": "stream",
     "text": [
      "100%|██████████| 510/510 [00:18<00:00, 28.15it/s]"
     ]
    },
    {
     "name": "stdout",
     "output_type": "stream",
     "text": [
      "\n",
      "Ticker:  中国平安\n",
      "Sentence Score:  0.31234752377721214\n",
      "Sentence Content:  [88]全球上市公司2000强第7位，蝉联全球多元保险企业首位，同时继续蝉联中国保险企业第1位\n",
      "Api keywords [{'Word': '中国', 'Score': 1.0}, {'Word': '公司', 'Score': 0.4430511}, {'Word': '企业', 'Score': 0.4347515}, {'Word': '品牌', 'Score': 0.34867948}, {'Word': '股份有限公司', 'Score': 0.32757604}, {'Word': '金融', 'Score': 0.27585703}, {'Word': '全球', 'Score': 0.250692}, {'Word': '财富', 'Score': 0.23988219}, {'Word': '投资', 'Score': 0.22876978}, {'Word': '榜单', 'Score': 0.22708616}, {'Word': '价值', 'Score': 0.2262197}, {'Word': '股东', 'Score': 0.21140942}, {'Word': '品牌价值', 'Score': 0.20298919}, {'Word': '排行榜', 'Score': 0.20243382}, {'Word': '综合', 'Score': 0.18870354}, {'Word': '管理', 'Score': 0.1862201}, {'Word': '战略', 'Score': 0.182066}, {'Word': '保险', 'Score': 0.17868818}, {'Word': '系列', 'Score': 0.17620254}, {'Word': '股份', 'Score': 0.16126554}, {'Word': '股', 'Score': 0.15162568}, {'Word': '集团', 'Score': 0.15106443}, {'Word': '社会', 'Score': 0.14059536}, {'Word': '上市', 'Score': 0.139078}, {'Word': '香港', 'Score': 0.13665861}, {'Word': '经济', 'Score': 0.13517983}, {'Word': '世界', 'Score': 0.13138142}, {'Word': '年度', 'Score': 0.12558319}, {'Word': '合作', 'Score': 0.12292547}, {'Word': '证券', 'Score': 0.12256853}]\n",
      "Whether query included in 30 keywords from Api:  True\n",
      "\n",
      "Ticker:  平安银行\n",
      "Sentence Score:  0.30151134457776363\n",
      "Sentence Content:  平安银行成为国内第一家以保险品牌命名的商业银行\n",
      "Api keywords [{'Word': '平安银行', 'Score': 1.0}, {'Word': '银行', 'Score': 0.6556432}, {'Word': '中国', 'Score': 0.38513818}, {'Word': '服务', 'Score': 0.30316415}, {'Word': '金融', 'Score': 0.30064687}, {'Word': '业务', 'Score': 0.28462037}, {'Word': '人民币', 'Score': 0.25870296}, {'Word': '客户', 'Score': 0.23684429}, {'Word': '年度', 'Score': 0.21928531}, {'Word': '深圳平安银行', 'Score': 0.20262001}, {'Word': '集团', 'Score': 0.20097798}, {'Word': '平安保险', 'Score': 0.19914901}, {'Word': '奖', 'Score': 0.1981641}, {'Word': '深发展', 'Score': 0.19702907}, {'Word': '管理', 'Score': 0.19680007}, {'Word': '借记卡', 'Score': 0.19510867}, {'Word': '企业', 'Score': 0.1929299}, {'Word': '深圳发展银行', 'Score': 0.17390339}, {'Word': '理财产品', 'Score': 0.16981058}, {'Word': '网上银行', 'Score': 0.16181932}, {'Word': '系统', 'Score': 0.15797871}, {'Word': '公司', 'Score': 0.15049568}, {'Word': '财富', 'Score': 0.14880759}, {'Word': '品牌', 'Score': 0.14750078}, {'Word': '深圳', 'Score': 0.1390788}, {'Word': '方面', 'Score': 0.13584341}, {'Word': '消费', 'Score': 0.13413623}, {'Word': '股份', 'Score': 0.1315706}, {'Word': '综合', 'Score': 0.12951952}, {'Word': '国际', 'Score': 0.12637958}]\n",
      "Whether query included in 30 keywords from Api:  False\n",
      "\n",
      "Ticker:  光大银行\n",
      "Sentence Score:  0.25\n",
      "Sentence Content:  捆绑销售个贷保险、违规收取财务顾问费 光大银行被银保监会点名批评\n",
      "Api keywords [{'Word': '光大银行', 'Score': 1.0}, {'Word': '银行', 'Score': 0.9945105}, {'Word': '分行', 'Score': 0.77728945}, {'Word': '服务', 'Score': 0.7687211}, {'Word': '中国光大银行', 'Score': 0.630178}, {'Word': '客户', 'Score': 0.61010194}, {'Word': '中国', 'Score': 0.48358443}, {'Word': '年度', 'Score': 0.40251923}, {'Word': '品牌', 'Score': 0.39764658}, {'Word': '产品', 'Score': 0.39586246}, {'Word': '业务', 'Score': 0.39260036}, {'Word': '网点', 'Score': 0.36781374}, {'Word': '奖', 'Score': 0.3359148}, {'Word': '信用卡', 'Score': 0.3337056}, {'Word': '企业', 'Score': 0.33301756}, {'Word': '公司', 'Score': 0.3047602}, {'Word': '董事长', 'Score': 0.28996763}, {'Word': '支付', 'Score': 0.27383637}, {'Word': '金融', 'Score': 0.26329097}, {'Word': '价值', 'Score': 0.24919108}, {'Word': '工作', 'Score': 0.24881983}, {'Word': '责任', 'Score': 0.24566762}, {'Word': '社会', 'Score': 0.24543226}, {'Word': '风险', 'Score': 0.23884444}, {'Word': '全球', 'Score': 0.23161843}, {'Word': '股东', 'Score': 0.2300159}, {'Word': '机构', 'Score': 0.22539471}, {'Word': '经营', 'Score': 0.22475438}, {'Word': '香港', 'Score': 0.22355983}, {'Word': '管理', 'Score': 0.22331423}]\n",
      "Whether query included in 30 keywords from Api:  False\n",
      "\n",
      "Ticker:  周大生\n",
      "Sentence Score:  0.25\n",
      "Sentence Content:  1).周大生珠宝货品由中国太平洋财产保险公司提供全程运输保险\n",
      "Api keywords [{'Word': '周大生', 'Score': 1.0}, {'Word': '珠宝', 'Score': 0.60791993}, {'Word': '中国', 'Score': 0.49725628}, {'Word': '品牌', 'Score': 0.43941152}, {'Word': '钻石', 'Score': 0.4128167}, {'Word': '企业', 'Score': 0.33998016}, {'Word': '57', 'Score': 0.28594068}, {'Word': '系列', 'Score': 0.25375584}, {'Word': '产品', 'Score': 0.22901374}, {'Word': '行业', 'Score': 0.20933196}, {'Word': '珠宝首饰', 'Score': 0.20643294}, {'Word': '服务', 'Score': 0.1801895}, {'Word': '比利时', 'Score': 0.17589986}, {'Word': '公司', 'Score': 0.16649836}, {'Word': '文化', 'Score': 0.15911189}, {'Word': '爱心', 'Score': 0.1345007}, {'Word': '全国', 'Score': 0.13345301}, {'Word': '年度', 'Score': 0.12246692}, {'Word': '连锁', 'Score': 0.12051184}, {'Word': '消费者', 'Score': 0.119293295}, {'Word': '连锁店', 'Score': 0.11434205}, {'Word': '周宗文', 'Score': 0.11308928}, {'Word': '价值', 'Score': 0.111200884}, {'Word': '金龙', 'Score': 0.110983364}, {'Word': '专区', 'Score': 0.10244521}, {'Word': '核心', 'Score': 0.10243559}, {'Word': '首饰', 'Score': 0.10028847}, {'Word': '设计', 'Score': 0.098418534}, {'Word': '荣誉', 'Score': 0.09820475}, {'Word': '员工', 'Score': 0.09814716}]\n",
      "Whether query included in 30 keywords from Api:  False\n",
      "\n",
      "Ticker:  长安汽车\n",
      "Sentence Score:  0.24253562503633297\n",
      "Sentence Content:  本次召回范围内的车辆，由于发动机冷却风扇电源线保险端子的选型及制造过程偏差，极端情况下会导致车辆保险丝熔断及冷却风扇保险区域出现烧熔现象，不能排除起火风险，存在安全隐患\n",
      "Api keywords [{'Word': '长安汽车', 'Score': 1.0}, {'Word': '汽车', 'Score': 0.7633563}, {'Word': '中国', 'Score': 0.54930884}, {'Word': '企业', 'Score': 0.45721942}, {'Word': '智能', 'Score': 0.37612352}, {'Word': '合作', 'Score': 0.34550163}, {'Word': '长安', 'Score': 0.31161553}, {'Word': '协议', 'Score': 0.30250874}, {'Word': '技术', 'Score': 0.29508296}, {'Word': '客户', 'Score': 0.29429224}, {'Word': '平台', 'Score': 0.29267812}, {'Word': '品牌', 'Score': 0.286028}, {'Word': '股份有限公司', 'Score': 0.2736632}, {'Word': '产品', 'Score': 0.27315557}, {'Word': '研发', 'Score': 0.26262194}, {'Word': '中心', 'Score': 0.25884354}, {'Word': '重庆', 'Score': 0.24656953}, {'Word': '领域', 'Score': 0.24501787}, {'Word': '全球', 'Score': 0.24383353}, {'Word': '重庆长安', 'Score': 0.23808801}, {'Word': '制造', 'Score': 0.23505059}, {'Word': '动力', 'Score': 0.22111052}, {'Word': '系统', 'Score': 0.20925002}, {'Word': '战略', 'Score': 0.20868403}, {'Word': '公司', 'Score': 0.20418485}, {'Word': '市场', 'Score': 0.1959453}, {'Word': '发动机', 'Score': 0.19582151}, {'Word': '示范', 'Score': 0.1938565}, {'Word': '车', 'Score': 0.17612945}, {'Word': '设计', 'Score': 0.16854149}]\n",
      "Whether query included in 30 keywords from Api:  False\n",
      "\n",
      "Ticker:  新大陆\n",
      "Sentence Score:  0.1889822365046136\n",
      "Sentence Content:  英国国王为表彰他发现新大陆的业绩，赏赐给他按年领取的保险年金二十英镑\n",
      "Api keywords [{'Word': '美洲', 'Score': 1.0}, {'Word': '世界', 'Score': 0.9943989}, {'Word': '首都', 'Score': 0.7429713}, {'Word': '大陆', 'Score': 0.7145808}, {'Word': '北美洲', 'Score': 0.7004181}, {'Word': '南美洲', 'Score': 0.6655462}, {'Word': '巴西', 'Score': 0.60742337}, {'Word': '加拿大', 'Score': 0.5500864}, {'Word': '美国', 'Score': 0.5485279}, {'Word': '面积', 'Score': 0.54104096}, {'Word': '新大陆', 'Score': 0.43725935}, {'Word': '墨西哥', 'Score': 0.43524483}, {'Word': '秘鲁', 'Score': 0.42976356}, {'Word': '国家', 'Score': 0.42899245}, {'Word': '阿根廷', 'Score': 0.3962547}, {'Word': '名字', 'Score': 0.38660955}, {'Word': '智利', 'Score': 0.37795898}, {'Word': '印第安人', 'Score': 0.37473828}, {'Word': '经济', 'Score': 0.33009294}, {'Word': '英国', 'Score': 0.31620386}, {'Word': '北美', 'Score': 0.31253365}, {'Word': '委内瑞拉', 'Score': 0.30141}, {'Word': '公元', 'Score': 0.29707524}, {'Word': '哥伦布', 'Score': 0.29574275}, {'Word': '人类', 'Score': 0.2956146}, {'Word': '▪', 'Score': 0.29412255}, {'Word': '地位', 'Score': 0.2937882}, {'Word': '地图', 'Score': 0.27957433}, {'Word': '商人', 'Score': 0.26360968}, {'Word': '国', 'Score': 0.2603441}]\n",
      "Whether query included in 30 keywords from Api:  False\n",
      "\n",
      "Ticker:  青岛银行\n",
      "Sentence Score:  0.18569533817705186\n",
      "Sentence Content:  例如“专利权质押保险贷款”、“投保贷”和“科创易贷”等\n",
      "Api keywords [{'Word': '青岛银行', 'Score': 1.0}, {'Word': '银行', 'Score': 0.64232236}, {'Word': '贷款', 'Score': 0.55760735}, {'Word': '服务', 'Score': 0.52447826}, {'Word': '青岛市', 'Score': 0.5236217}, {'Word': '支行', 'Score': 0.52302164}, {'Word': '企业', 'Score': 0.5146842}, {'Word': '金融', 'Score': 0.5032445}, {'Word': '业务', 'Score': 0.43338233}, {'Word': '产品', 'Score': 0.37216246}, {'Word': '客户', 'Score': 0.35417143}, {'Word': '个人', 'Score': 0.3483164}, {'Word': '管理', 'Score': 0.34489527}, {'Word': '青岛', 'Score': 0.31888074}, {'Word': '特色', 'Score': 0.2961336}, {'Word': '品牌', 'Score': 0.29468232}, {'Word': '资产', 'Score': 0.2918221}, {'Word': '发展', 'Score': 0.27512896}, {'Word': '信息', 'Score': 0.26527148}, {'Word': '公司', 'Score': 0.2528786}, {'Word': '金融服务', 'Score': 0.24751267}, {'Word': '转账', 'Score': 0.2387623}, {'Word': '功能', 'Score': 0.23685834}, {'Word': '财富', 'Score': 0.23255655}, {'Word': '账户', 'Score': 0.2325291}, {'Word': '市南区', 'Score': 0.22552365}, {'Word': '地方', 'Score': 0.22171076}, {'Word': '网点', 'Score': 0.20337413}, {'Word': '风险', 'Score': 0.19439432}, {'Word': '融资', 'Score': 0.1939487}]\n",
      "Whether query included in 30 keywords from Api:  False\n",
      "\n",
      "Ticker:  兴业银行\n",
      "Sentence Score:  0.15713484026367722\n",
      "Sentence Content:  “安愉人生”养老金融综合服务：兴业银行为中老年客户专属订制的综合金融服务方案，涵盖专属理财、信用贷款、便利结算、增值服务四大体系，并通过与国内知名的保险、法律咨询、医疗咨询和养老休闲等机构合作，为客户提供从保险、法律、医疗到休闲娱乐、度假养生等一系列增值服务\n",
      "Api keywords [{'Word': '兴业银行', 'Score': 1.0}, {'Word': '银行', 'Score': 0.84568536}, {'Word': '金融', 'Score': 0.72135174}, {'Word': '客户', 'Score': 0.72024727}, {'Word': '产品', 'Score': 0.5011839}, {'Word': '业务', 'Score': 0.46928528}, {'Word': '服务', 'Score': 0.43287966}, {'Word': '企业', 'Score': 0.42400578}, {'Word': '金融服务', 'Score': 0.36496142}, {'Word': '公司', 'Score': 0.35163847}, {'Word': '资产', 'Score': 0.3182881}, {'Word': '管理', 'Score': 0.3050201}, {'Word': '经营', 'Score': 0.30176267}, {'Word': '合作', 'Score': 0.30019286}, {'Word': '机构', 'Score': 0.29107106}, {'Word': '财富', 'Score': 0.28841314}, {'Word': '资金', 'Score': 0.27559903}, {'Word': '贷款', 'Score': 0.27324504}, {'Word': '中国', 'Score': 0.26652947}, {'Word': '领域', 'Score': 0.26306725}, {'Word': '中心', 'Score': 0.25174293}, {'Word': '市场', 'Score': 0.2506482}, {'Word': '综合', 'Score': 0.24650429}, {'Word': '平台', 'Score': 0.2249168}, {'Word': '分行', 'Score': 0.22293586}, {'Word': '奖', 'Score': 0.21821661}, {'Word': '金融机构', 'Score': 0.20208518}, {'Word': '专业', 'Score': 0.19525294}, {'Word': '品牌', 'Score': 0.19453679}, {'Word': '结算', 'Score': 0.19380452}]\n",
      "Whether query included in 30 keywords from Api:  False\n",
      "\n",
      "Ticker:  中科软\n",
      "Sentence Score:  0.12803687993289598\n",
      "Sentence Content:  同时，我们也拥有一支资深顾问团队，成员涉及保险、银行、政府、媒体、电力、卫生、邮政等诸多行业领域\n",
      "Api keywords [{'Word': '软件', 'Score': 1.0}, {'Word': '软科技', 'Score': 0.76736695}, {'Word': '公司', 'Score': 0.7398814}, {'Word': '企业', 'Score': 0.7107125}, {'Word': '国家', 'Score': 0.52077246}, {'Word': '中国', 'Score': 0.45050824}, {'Word': '产品', 'Score': 0.4078552}, {'Word': '系统', 'Score': 0.40306297}, {'Word': '行业', 'Score': 0.40256608}, {'Word': '股份有限公司', 'Score': 0.32609618}, {'Word': '应用', 'Score': 0.32500032}, {'Word': '软件业', 'Score': 0.32233995}, {'Word': '技术', 'Score': 0.30471438}, {'Word': '北京', 'Score': 0.2958626}, {'Word': '开发', 'Score': 0.29394886}, {'Word': '工程', 'Score': 0.2926793}, {'Word': '信息产业部', 'Score': 0.27630064}, {'Word': '领域', 'Score': 0.2747053}, {'Word': '北京市', 'Score': 0.25812304}, {'Word': '信息', 'Score': 0.25717482}, {'Word': '重点', 'Score': 0.23930307}, {'Word': '邮政', 'Score': 0.23133977}, {'Word': '代码', 'Score': 0.23049021}, {'Word': '媒体', 'Score': 0.23009892}, {'Word': '保险', 'Score': 0.229369}, {'Word': '政府', 'Score': 0.2293604}, {'Word': '银行', 'Score': 0.22912255}, {'Word': '证券', 'Score': 0.22623764}, {'Word': '资质证书', 'Score': 0.22306426}, {'Word': '科技进步', 'Score': 0.20591857}]\n",
      "Whether query included in 30 keywords from Api:  True\n",
      "\n",
      "Ticker:  北京银行\n",
      "Sentence Score:  0.12751534261266764\n",
      "Sentence Content:  [6]生肖主题信用卡——马年生肖卡在产品设计方面，卡面以中国著名画家墨涛的书画作品为主元素，融合中国传统文化概念和现代时尚感，突出马年祝福、贺岁迎新以及勇往直前的骏马精神，具有收藏价值；产品功能方面，马年生肖卡打造餐饮、百货、住宿三类消费3倍积分等增值服务，金马白金卡还可享航空保险、旅行保险赠送，以及道路救援、酒后代驾、机场接送、汽车租赁等白金尊贵礼遇，同时激活首刷更可获赠马年收藏纪念版套卡\n",
      "Api keywords [{'Word': '北京银行', 'Score': 1.0}, {'Word': '银行', 'Score': 0.4855492}, {'Word': '业务', 'Score': 0.43767974}, {'Word': '贷款', 'Score': 0.35325792}, {'Word': '发展', 'Score': 0.30969816}, {'Word': '中国', 'Score': 0.30511844}, {'Word': '产品', 'Score': 0.29301408}, {'Word': '分行', 'Score': 0.26022053}, {'Word': '客户', 'Score': 0.22864072}, {'Word': '地址', 'Score': 0.22543423}, {'Word': '公司', 'Score': 0.21686478}, {'Word': '方面', 'Score': 0.21361427}, {'Word': '资产', 'Score': 0.2027374}, {'Word': '建设', 'Score': 0.2014563}, {'Word': '企业', 'Score': 0.1980097}, {'Word': '金融', 'Score': 0.19092537}, {'Word': '机制', 'Score': 0.18641682}, {'Word': '文化', 'Score': 0.17712493}, {'Word': '服务', 'Score': 0.16003712}, {'Word': '品牌', 'Score': 0.15894859}, {'Word': '股东', 'Score': 0.1564156}, {'Word': '资金', 'Score': 0.14836445}, {'Word': '价值', 'Score': 0.14836046}, {'Word': '员工', 'Score': 0.14731148}, {'Word': '系统', 'Score': 0.14042778}, {'Word': '国际', 'Score': 0.13615587}, {'Word': '北京市', 'Score': 0.13427375}, {'Word': '城市商业银行', 'Score': 0.1339138}, {'Word': '战略', 'Score': 0.13390554}, {'Word': '区域', 'Score': 0.13346629}]\n",
      "Whether query included in 30 keywords from Api:  False\n"
     ]
    },
    {
     "name": "stderr",
     "output_type": "stream",
     "text": [
      "\n"
     ]
    }
   ],
   "source": [
    "query = '保险'\n",
    "\n",
    "query_dict = dict()\n",
    "\n",
    "for one in tqdm(all):\n",
    "    scores = []\n",
    "    sentences = one['baike_content'].split('。')\n",
    "    for sentence in sentences:\n",
    "        score = get_word_vector(sentence, query)\n",
    "        scores.append(score)\n",
    "    query_dict[one['ticker_name']] = {\n",
    "        'sentences': sentences,\n",
    "        'scores': scores,\n",
    "        'score_max': np.max(scores),\n",
    "        'score_mean': np.mean(scores),  # should block some and then choose\n",
    "        'api_keywords': one['text_keyword'],\n",
    "    }\n",
    "\n",
    "# sort by max score\n",
    "query_sorted = sorted(query_dict.items(), key=lambda d:d[1]['score_max'], reverse=True)\n",
    "\n",
    "num = 0\n",
    "for i in query_sorted:\n",
    "    ticker = i[0]\n",
    "    print()\n",
    "    print('Ticker: ',  ticker)\n",
    "    print('Sentence Score: ', query_dict[ticker]['score_max'])\n",
    "    print('Sentence Content: ', query_dict[ticker]['sentences'][np.argmax(query_dict[ticker]['scores'])])\n",
    "    print('Api keywords', query_dict[ticker]['api_keywords'])\n",
    "    print('Whether query included in 30 keywords from Api: ', query in [i['Word'] for i in query_dict[ticker]['api_keywords']])\n",
    "    # print(query_dict[ticker]['sentences'])\n",
    "    num = num + 1\n",
    "    if num >= 10:\n",
    "        break"
   ]
  },
  {
   "cell_type": "markdown",
   "metadata": {},
   "source": [
    "---\n",
    "### query词->句子\n",
    "1. idea是，如果长文本中某句话和query很相似，应该被捕捉到，所以每句话求一下和query的相似度。本质是算了一遍每句话的keyword\n",
    "2. 如果query冗余，结果不准确；改进：①句子相似度算法(当前是jieba keyword，也许可以试试api或者GPT) ②query分割为keywords，结果组合 ③block query\n",
    "3. 这种方法很慢，但可以提前预置一些查询结果，william说的字典"
   ]
  }
 ],
 "metadata": {
  "interpreter": {
   "hash": "cd495f9cf51c55ca6e0a09c1b63ca3d581a6ff772fd59300e24bb21842a30a9f"
  },
  "kernelspec": {
   "display_name": "Python 3.8.12 ('lora')",
   "language": "python",
   "name": "python3"
  },
  "language_info": {
   "codemirror_mode": {
    "name": "ipython",
    "version": 3
   },
   "file_extension": ".py",
   "mimetype": "text/x-python",
   "name": "python",
   "nbconvert_exporter": "python",
   "pygments_lexer": "ipython3",
   "version": "3.8.12"
  },
  "orig_nbformat": 4
 },
 "nbformat": 4,
 "nbformat_minor": 2
}
