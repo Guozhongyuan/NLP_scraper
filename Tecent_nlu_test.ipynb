{
 "cells": [
  {
   "cell_type": "markdown",
   "metadata": {},
   "source": [
    "### Reference\n",
    "1. [example code](https://console.cloud.tencent.com/api/explorer?Product=nlp&Version=2019-04-08&Action=TextClassification&SignVersion=)\n",
    "2. [Tecent ID and KEY](https://console.cloud.tencent.com/cam/capi)\n",
    "3. [nlu api document](https://cloud.tencent.com/document/product/271/35496) limit 20/second\n",
    "4. [sdk document](https://cloud.tencent.com/document/sdk/Python)\n",
    "5. "
   ]
  },
  {
   "cell_type": "markdown",
   "metadata": {},
   "source": [
    "### keywords"
   ]
  },
  {
   "cell_type": "code",
   "execution_count": null,
   "metadata": {},
   "outputs": [],
   "source": [
    "import json\n",
    "from tencentcloud.common import credential\n",
    "from tencentcloud.common.profile.client_profile import ClientProfile\n",
    "from tencentcloud.common.profile.http_profile import HttpProfile\n",
    "from tencentcloud.common.exception.tencent_cloud_sdk_exception import TencentCloudSDKException\n",
    "from tencentcloud.nlp.v20190408 import nlp_client, models\n",
    "\n",
    "SecretId = 'AKIDlMhlY5LK2TdXBYfV4MO9droVv4vWrugB'\n",
    "SecretKey = 'GFxOYS7VdT2KM8cpqa3E8l7C0Zsue9OL'\n",
    "\n",
    "try:\n",
    "    cred = credential.Credential(SecretId, SecretKey)\n",
    "    httpProfile = HttpProfile()\n",
    "    httpProfile.endpoint = \"nlp.tencentcloudapi.com\"\n",
    "\n",
    "    clientProfile = ClientProfile()\n",
    "    clientProfile.httpProfile = httpProfile\n",
    "    client = nlp_client.NlpClient(cred, \"ap-guangzhou\", clientProfile)\n",
    "\n",
    "    req = models.KeywordsExtractionRequest()\n",
    "    params = {\n",
    "        \"Text\": \"众力并则万钧举，人心齐则泰山移。3月11日，十三届全国人大五次会议圆满完成各项议程，在京胜利闭幕。与会代表不负人民重托、积极建言献策、认真履职尽责，书写了民主、团结、求实、奋进的崭新篇章。我们对大会的成功表示热烈祝贺！  　　这次大会是在我国进入全面建设社会主义现代化国家、向第二个百年奋斗目标进军新征程的重要时刻召开的一次重要会议。大会高度评价过去一年党和国家事业取得新的重大成就、“十四五”实现良好开局，代表们一致认为这是以习近平同志为核心的党中央坚强领导的结果，是习近平新时代中国特色社会主义思想科学指引的结果，是全党全军全国各族人民团结奋斗的结果。大会审议并批准了政府工作报告和其他各项重要报告，代表们一致认为政府工作报告坚持以习近平新时代中国特色社会主义思想为指导，全面贯彻落实党中央关于今年经济社会发展的决策部署，是一篇求真务实、开拓创新、鼓舞人心的好报告。大会审议通过了关于修改《中华人民共和国地方各级人民代表大会和地方各级人民政府组织法》的决定，对于进一步完善地方人大和地方政府的组织和工作制度，加强地方政权建设，更好地坚持和完善人民代表大会制度，发展全过程人民民主，坚持全面依法治国，推进国家治理体系和治理能力现代化，具有重要意义。大会听取审议了全国人大常委会工作报告，充分肯定全国人大常委会一年来依法履职、担当尽责，各项工作都取得了新的进展。大会的成功，为推动党和国家事业发展、不断夺取新时代中国特色社会主义新胜利，凝聚了广泛共识、注入了强大力量。  　　当前，国际形势继续发生深刻复杂变化，百年变局和世纪疫情相互交织，经济全球化遭遇逆流，大国博弈日趋激烈，世界进入新的动荡变革期，国内改革发展稳定任务艰巨繁重。新的起点上推进伟大事业，我们面临着难得机遇，也面临着严峻挑战。今年下半年，中国共产党将召开第二十次全国代表大会，总结过去五年的工作，谋划未来一个时期的发展蓝图，这是党和国家政治生活中的一件大事，要保持平稳健康的经济环境、国泰民安的社会环境、风清气正的政治环境。回顾新时代党和人民奋进历程，我们深刻认识到，坚持党的全面领导是坚持和发展中国特色社会主义的必由之路，中国特色社会主义是实现中华民族伟大复兴的必由之路，团结奋斗是中国人民创造历史伟业的必由之路，贯彻新发展理念是新时代我国发展壮大的必由之路，全面从严治党是党永葆生机活力、走好新的赶考之路的必由之路。新的伟大征程上，我们要坚定志不改、道不变的决心，保持战略定力和耐心，把握我国发展诸多战略性的有利条件，发扬历史主动精神，迎难而上，敢于斗争，砥砺前行，奋发有为，牢牢把中国发展进步的命运掌握在自己手中。\",\n",
    "        \"Num\": 30\n",
    "    }\n",
    "    req.from_json_string(json.dumps(params))\n",
    "\n",
    "    resp = client.KeywordsExtraction(req)\n",
    "    print(resp.to_json_string())\n",
    "\n",
    "except TencentCloudSDKException as err:\n",
    "    print(err)\n",
    "\n",
    "\n",
    "print(resp.Keywords)"
   ]
  },
  {
   "cell_type": "markdown",
   "metadata": {},
   "source": [
    "### classify\n",
    "flag 1 二分类，2 新闻五分类"
   ]
  },
  {
   "cell_type": "code",
   "execution_count": null,
   "metadata": {},
   "outputs": [],
   "source": [
    "import json\n",
    "from tencentcloud.common import credential\n",
    "from tencentcloud.common.profile.client_profile import ClientProfile\n",
    "from tencentcloud.common.profile.http_profile import HttpProfile\n",
    "from tencentcloud.common.exception.tencent_cloud_sdk_exception import TencentCloudSDKException\n",
    "from tencentcloud.nlp.v20190408 import nlp_client, models\n",
    "\n",
    "\n",
    "try:\n",
    "    cred = credential.Credential(\"SecretId\", \"SecretKey\")\n",
    "    httpProfile = HttpProfile()\n",
    "    httpProfile.endpoint = \"nlp.tencentcloudapi.com\"\n",
    "\n",
    "    clientProfile = ClientProfile()\n",
    "    clientProfile.httpProfile = httpProfile\n",
    "    client = nlp_client.NlpClient(cred, \"ap-guangzhou\", clientProfile)\n",
    "\n",
    "    req = models.TextClassificationRequest()\n",
    "    params = {\n",
    "        \"Text\": \"众力并则万钧举，人心齐则泰山移。3月11日，十三届全国人大五次会议圆满完成各项议程，在京胜利闭幕。与会代表不负人民重托、积极建言献策、认真履职尽责，书写了民主、团结、求实、奋进的崭新篇章。我们对大会的成功表示热烈祝贺！  　　这次大会是在我国进入全面建设社会主义现代化国家、向第二个百年奋斗目标进军新征程的重要时刻召开的一次重要会议。大会高度评价过去一年党和国家事业取得新的重大成就、“十四五”实现良好开局，代表们一致认为这是以习近平同志为核心的党中央坚强领导的结果，是习近平新时代中国特色社会主义思想科学指引的结果，是全党全军全国各族人民团结奋斗的结果。大会审议并批准了政府工作报告和其他各项重要报告，代表们一致认为政府工作报告坚持以习近平新时代中国特色社会主义思想为指导，全面贯彻落实党中央关于今年经济社会发展的决策部署，是一篇求真务实、开拓创新、鼓舞人心的好报告。大会审议通过了关于修改《中华人民共和国地方各级人民代表大会和地方各级人民政府组织法》的决定，对于进一步完善地方人大和地方政府的组织和工作制度，加强地方政权建设，更好地坚持和完善人民代表大会制度，发展全过程人民民主，坚持全面依法治国，推进国家治理体系和治理能力现代化，具有重要意义。大会听取审议了全国人大常委会工作报告，充分肯定全国人大常委会一年来依法履职、担当尽责，各项工作都取得了新的进展。大会的成功，为推动党和国家事业发展、不断夺取新时代中国特色社会主义新胜利，凝聚了广泛共识、注入了强大力量。  　　当前，国际形势继续发生深刻复杂变化，百年变局和世纪疫情相互交织，经济全球化遭遇逆流，大国博弈日趋激烈，世界进入新的动荡变革期，国内改革发展稳定任务艰巨繁重。新的起点上推进伟大事业，我们面临着难得机遇，也面临着严峻挑战。今年下半年，中国共产党将召开第二十次全国代表大会，总结过去五年的工作，谋划未来一个时期的发展蓝图，这是党和国家政治生活中的一件大事，要保持平稳健康的经济环境、国泰民安的社会环境、风清气正的政治环境。回顾新时代党和人民奋进历程，我们深刻认识到，坚持党的全面领导是坚持和发展中国特色社会主义的必由之路，中国特色社会主义是实现中华民族伟大复兴的必由之路，团结奋斗是中国人民创造历史伟业的必由之路，贯彻新发展理念是新时代我国发展壮大的必由之路，全面从严治党是党永葆生机活力、走好新的赶考之路的必由之路。新的伟大征程上，我们要坚定志不改、道不变的决心，保持战略定力和耐心，把握我国发展诸多战略性的有利条件，发扬历史主动精神，迎难而上，敢于斗争，砥砺前行，奋发有为，牢牢把中国发展进步的命运掌握在自己手中。\",\n",
    "        \"Flag\": 2\n",
    "    }\n",
    "    req.from_json_string(json.dumps(params))\n",
    "\n",
    "    resp = client.TextClassification(req)\n",
    "    print(resp.to_json_string())\n",
    "\n",
    "except TencentCloudSDKException as err:\n",
    "    print(err)"
   ]
  },
  {
   "cell_type": "markdown",
   "metadata": {},
   "source": [
    "### sentiment\n",
    "200个字以内"
   ]
  },
  {
   "cell_type": "code",
   "execution_count": null,
   "metadata": {},
   "outputs": [],
   "source": [
    "import json\n",
    "from tencentcloud.common import credential\n",
    "from tencentcloud.common.profile.client_profile import ClientProfile\n",
    "from tencentcloud.common.profile.http_profile import HttpProfile\n",
    "from tencentcloud.common.exception.tencent_cloud_sdk_exception import TencentCloudSDKException\n",
    "from tencentcloud.nlp.v20190408 import nlp_client, models\n",
    "try:\n",
    "    cred = credential.Credential(\"SecretId\", \"SecretKey\")\n",
    "    httpProfile = HttpProfile()\n",
    "    httpProfile.endpoint = \"nlp.tencentcloudapi.com\"\n",
    "\n",
    "    clientProfile = ClientProfile()\n",
    "    clientProfile.httpProfile = httpProfile\n",
    "    client = nlp_client.NlpClient(cred, \"ap-guangzhou\", clientProfile)\n",
    "\n",
    "    req = models.SentimentAnalysisRequest()\n",
    "    params = {\n",
    "        \"Text\": \"众力并则万钧举，人心齐则泰山移。\",\n",
    "        \"Flag\": 4,\n",
    "        \"Mode\": \"2class\"\n",
    "    }\n",
    "    req.from_json_string(json.dumps(params))\n",
    "\n",
    "    resp = client.SentimentAnalysis(req)\n",
    "    print(resp.to_json_string())\n",
    "\n",
    "except TencentCloudSDKException as err:\n",
    "    print(err)"
   ]
  },
  {
   "cell_type": "markdown",
   "metadata": {},
   "source": [
    "### summarization\n",
    "summary后长度 默认200"
   ]
  },
  {
   "cell_type": "code",
   "execution_count": null,
   "metadata": {},
   "outputs": [],
   "source": [
    "import json\n",
    "from tencentcloud.common import credential\n",
    "from tencentcloud.common.profile.client_profile import ClientProfile\n",
    "from tencentcloud.common.profile.http_profile import HttpProfile\n",
    "from tencentcloud.common.exception.tencent_cloud_sdk_exception import TencentCloudSDKException\n",
    "from tencentcloud.nlp.v20190408 import nlp_client, models\n",
    "try:\n",
    "    cred = credential.Credential(\"SecretId\", \"SecretKey\")\n",
    "    httpProfile = HttpProfile()\n",
    "    httpProfile.endpoint = \"nlp.tencentcloudapi.com\"\n",
    "\n",
    "    clientProfile = ClientProfile()\n",
    "    clientProfile.httpProfile = httpProfile\n",
    "    client = nlp_client.NlpClient(cred, \"ap-guangzhou\", clientProfile)\n",
    "\n",
    "    req = models.AutoSummarizationRequest()\n",
    "    params = {\n",
    "        \"Text\": \"众力并则万钧举，人心齐则泰山移。3月11日，十三届全国人大五次会议圆满完成各项议程，在京胜利闭幕。与会代表不负人民重托、积极建言献策、认真履职尽责，书写了民主、团结、求实、奋进的崭新篇章。我们对大会的成功表示热烈祝贺！  　　这次大会是在我国进入全面建设社会主义现代化国家、向第二个百年奋斗目标进军新征程的重要时刻召开的一次重要会议。大会高度评价过去一年党和国家事业取得新的重大成就、“十四五”实现良好开局，代表们一致认为这是以习近平同志为核心的党中央坚强领导的结果，是习近平新时代中国特色社会主义思想科学指引的结果，是全党全军全国各族人民团结奋斗的结果。大会审议并批准了政府工作报告和其他各项重要报告，代表们一致认为政府工作报告坚持以习近平新时代中国特色社会主义思想为指导，全面贯彻落实党中央关于今年经济社会发展的决策部署，是一篇求真务实、开拓创新、鼓舞人心的好报告。大会审议通过了关于修改《中华人民共和国地方各级人民代表大会和地方各级人民政府组织法》的决定，对于进一步完善地方人大和地方政府的组织和工作制度，加强地方政权建设，更好地坚持和完善人民代表大会制度，发展全过程人民民主，坚持全面依法治国，推进国家治理体系和治理能力现代化，具有重要意义。大会听取审议了全国人大常委会工作报告，充分肯定全国人大常委会一年来依法履职、担当尽责，各项工作都取得了新的进展。大会的成功，为推动党和国家事业发展、不断夺取新时代中国特色社会主义新胜利，凝聚了广泛共识、注入了强大力量。  　　当前，国际形势继续发生深刻复杂变化，百年变局和世纪疫情相互交织，经济全球化遭遇逆流，大国博弈日趋激烈，世界进入新的动荡变革期，国内改革发展稳定任务艰巨繁重。新的起点上推进伟大事业，我们面临着难得机遇，也面临着严峻挑战。今年下半年，中国共产党将召开第二十次全国代表大会，总结过去五年的工作，谋划未来一个时期的发展蓝图，这是党和国家政治生活中的一件大事，要保持平稳健康的经济环境、国泰民安的社会环境、风清气正的政治环境。回顾新时代党和人民奋进历程，我们深刻认识到，坚持党的全面领导是坚持和发展中国特色社会主义的必由之路，中国特色社会主义是实现中华民族伟大复兴的必由之路，团结奋斗是中国人民创造历史伟业的必由之路，贯彻新发展理念是新时代我国发展壮大的必由之路，全面从严治党是党永葆生机活力、走好新的赶考之路的必由之路。新的伟大征程上，我们要坚定志不改、道不变的决心，保持战略定力和耐心，把握我国发展诸多战略性的有利条件，发扬历史主动精神，迎难而上，敢于斗争，砥砺前行，奋发有为，牢牢把中国发展进步的命运掌握在自己手中。\",\n",
    "        \"Length\": 200\n",
    "    }\n",
    "    req.from_json_string(json.dumps(params))\n",
    "\n",
    "    resp = client.AutoSummarization(req)\n",
    "    print(resp.to_json_string())\n",
    "\n",
    "except TencentCloudSDKException as err:\n",
    "    print(err)"
   ]
  },
  {
   "cell_type": "markdown",
   "metadata": {},
   "source": [
    "### word similarity"
   ]
  },
  {
   "cell_type": "code",
   "execution_count": null,
   "metadata": {},
   "outputs": [],
   "source": [
    "import json\n",
    "from tencentcloud.common import credential\n",
    "from tencentcloud.common.profile.client_profile import ClientProfile\n",
    "from tencentcloud.common.profile.http_profile import HttpProfile\n",
    "from tencentcloud.common.exception.tencent_cloud_sdk_exception import TencentCloudSDKException\n",
    "from tencentcloud.nlp.v20190408 import nlp_client, models\n",
    "\n",
    "try:\n",
    "    cred = credential.Credential(\"SecretId\", \"SecretKey\")\n",
    "    httpProfile = HttpProfile()\n",
    "    httpProfile.endpoint = \"nlp.tencentcloudapi.com\"\n",
    "\n",
    "    clientProfile = ClientProfile()\n",
    "    clientProfile.httpProfile = httpProfile\n",
    "    client = nlp_client.NlpClient(cred, \"ap-guangzhou\", clientProfile)\n",
    "\n",
    "    req = models.WordSimilarityRequest()\n",
    "    params = {\n",
    "        \"SrcWord\": \"美女\",\n",
    "        \"TargetWord\": \"帅哥\"\n",
    "    }\n",
    "    req.from_json_string(json.dumps(params))\n",
    "\n",
    "    resp = client.WordSimilarity(req)\n",
    "    print(resp.to_json_string())\n",
    "\n",
    "except TencentCloudSDKException as err:\n",
    "    print(err)"
   ]
  },
  {
   "cell_type": "markdown",
   "metadata": {},
   "source": [
    "### word vector (length 200)"
   ]
  },
  {
   "cell_type": "code",
   "execution_count": null,
   "metadata": {},
   "outputs": [],
   "source": [
    "import json\n",
    "from tencentcloud.common import credential\n",
    "from tencentcloud.common.profile.client_profile import ClientProfile\n",
    "from tencentcloud.common.profile.http_profile import HttpProfile\n",
    "from tencentcloud.common.exception.tencent_cloud_sdk_exception import TencentCloudSDKException\n",
    "from tencentcloud.nlp.v20190408 import nlp_client, models\n",
    "try:\n",
    "    cred = credential.Credential(\"SecretId\", \"SecretKey\")\n",
    "    httpProfile = HttpProfile()\n",
    "    httpProfile.endpoint = \"nlp.tencentcloudapi.com\"\n",
    "\n",
    "    clientProfile = ClientProfile()\n",
    "    clientProfile.httpProfile = httpProfile\n",
    "    client = nlp_client.NlpClient(cred, \"ap-guangzhou\", clientProfile)\n",
    "\n",
    "    req = models.WordEmbeddingRequest()\n",
    "    params = {\n",
    "        \"Text\": \"美女\"\n",
    "    }\n",
    "    req.from_json_string(json.dumps(params))\n",
    "\n",
    "    resp = client.WordEmbedding(req)\n",
    "    print(resp.to_json_string())\n",
    "\n",
    "except TencentCloudSDKException as err:\n",
    "    print(err)"
   ]
  },
  {
   "cell_type": "markdown",
   "metadata": {},
   "source": [
    "### sentence similarity (1747ms)"
   ]
  },
  {
   "cell_type": "code",
   "execution_count": null,
   "metadata": {},
   "outputs": [],
   "source": [
    "import json\n",
    "from tencentcloud.common import credential\n",
    "from tencentcloud.common.profile.client_profile import ClientProfile\n",
    "from tencentcloud.common.profile.http_profile import HttpProfile\n",
    "from tencentcloud.common.exception.tencent_cloud_sdk_exception import TencentCloudSDKException\n",
    "from tencentcloud.nlp.v20190408 import nlp_client, models\n",
    "\n",
    "try:\n",
    "    cred = credential.Credential(\"SecretId\", \"SecretKey\")\n",
    "    httpProfile = HttpProfile()\n",
    "    httpProfile.endpoint = \"nlp.tencentcloudapi.com\"\n",
    "\n",
    "    clientProfile = ClientProfile()\n",
    "    clientProfile.httpProfile = httpProfile\n",
    "    client = nlp_client.NlpClient(cred, \"ap-guangzhou\", clientProfile)\n",
    "\n",
    "    req = models.TextSimilarityRequest()\n",
    "    params = {\n",
    "        \"SrcText\": \"众力并则万钧举\",\n",
    "        \"TargetText\": [ \"人心齐则泰山移\", \"团结\" ]\n",
    "    }\n",
    "    req.from_json_string(json.dumps(params))\n",
    "\n",
    "    resp = client.TextSimilarity(req)\n",
    "    print(resp.to_json_string())\n",
    "\n",
    "except TencentCloudSDKException as err:\n",
    "    print(err)"
   ]
  },
  {
   "cell_type": "markdown",
   "metadata": {},
   "source": [
    "### sentence vector (1390ms)"
   ]
  },
  {
   "cell_type": "code",
   "execution_count": null,
   "metadata": {},
   "outputs": [],
   "source": [
    "import json\n",
    "from tencentcloud.common import credential\n",
    "from tencentcloud.common.profile.client_profile import ClientProfile\n",
    "from tencentcloud.common.profile.http_profile import HttpProfile\n",
    "from tencentcloud.common.exception.tencent_cloud_sdk_exception import TencentCloudSDKException\n",
    "from tencentcloud.nlp.v20190408 import nlp_client, models\n",
    "try:\n",
    "    cred = credential.Credential(\"SecretId\", \"SecretKey\")\n",
    "    httpProfile = HttpProfile()\n",
    "    httpProfile.endpoint = \"nlp.tencentcloudapi.com\"\n",
    "\n",
    "    clientProfile = ClientProfile()\n",
    "    clientProfile.httpProfile = httpProfile\n",
    "    client = nlp_client.NlpClient(cred, \"ap-guangzhou\", clientProfile)\n",
    "\n",
    "    req = models.SentenceEmbeddingRequest()\n",
    "    params = {\n",
    "        \"Text\": \"人心齐则泰山移\"\n",
    "    }\n",
    "    req.from_json_string(json.dumps(params))\n",
    "\n",
    "    resp = client.SentenceEmbedding(req)\n",
    "    print(resp.to_json_string())\n",
    "\n",
    "except TencentCloudSDKException as err:\n",
    "    print(err)"
   ]
  },
  {
   "cell_type": "code",
   "execution_count": 22,
   "metadata": {},
   "outputs": [],
   "source": [
    "from utility.tecent_utils import TecentNLU\n",
    "\n",
    "config = {\n",
    "    'SecretId': 'AKIDlMhlY5LK2TdXBYfV4MO9droVv4vWrugB',\n",
    "    'SecretKey': 'GFxOYS7VdT2KM8cpqa3E8l7C0Zsue9OL',\n",
    "}\n",
    "\n",
    "nlu_tool = TecentNLU(config)"
   ]
  },
  {
   "cell_type": "code",
   "execution_count": 25,
   "metadata": {},
   "outputs": [],
   "source": [
    "text = '''江秋莲列举了陈岚在江歌案发生后的数年间的所作所为：\n",
    "\n",
    "从2017年下半年开始，陈岚自称因“看清江歌妈妈以虚假案情构陷刘暖曦（刘鑫），而奋起揭露江秋莲的谎言，为刘暖曦正名”，其后开始不断攻击、污蔑江秋莲，并且不断引导不知真相的网民对其进行各种网络暴力和人身攻击。\n",
    "\n",
    "陈岚曾诽谤她，说侮辱江歌的微信账号“老姜”是江秋莲自导自演的左右手互搏，引导大量不知真相的网民攻击、网暴江秋莲，令其身心受到严重伤害，加重病情。陈岚和她的拥护者们多次围攻江秋莲，甚至对其代理律师、帮助过她的人都进行了围攻，意图斩断社会对她的帮助。\n",
    "\n",
    "陈岚还曾不间断的写文章、发视频，直播、模拟案发现场等方式，影射一审判决是江秋莲用捐款购买300多次热搜，用舆论影响司法赢得一审判决，引导网民猜忌江歌被害是江歌与陈世峰的矛盾引起、与刘暖曦无关，往江歌身上泼脏水的方式引导网暴。\n",
    "\n",
    "陈岚还和一些人一起在微博直播间通过网络直播、连线的形式，多次造谣、污蔑江秋莲“洗钱”、“诈骗”，攻击我国司法制度，甚至引导网民到负责二审的青岛市中级人民法院官方微博下进行网络围攻。'''\n"
   ]
  },
  {
   "cell_type": "code",
   "execution_count": 26,
   "metadata": {},
   "outputs": [
    {
     "data": {
      "text/plain": [
       "[{\"Score\": 1.0, \"Word\": \"江秋莲\"},\n",
       " {\"Score\": 0.5919659, \"Word\": \"江歌\"},\n",
       " {\"Score\": 0.49854422, \"Word\": \"网民\"},\n",
       " {\"Score\": 0.44939336, \"Word\": \"网络\"},\n",
       " {\"Score\": 0.40563673, \"Word\": \"方式\"},\n",
       " {\"Score\": 0.38168636, \"Word\": \"刘暖曦\"},\n",
       " {\"Score\": 0.31976688, \"Word\": \"陈岚\"},\n",
       " {\"Score\": 0.31788546, \"Word\": \"微博\"},\n",
       " {\"Score\": 0.31338802, \"Word\": \"判决\"},\n",
       " {\"Score\": 0.31115815, \"Word\": \"真相\"},\n",
       " {\"Score\": 0.22815779, \"Word\": \"我国\"},\n",
       " {\"Score\": 0.22724533, \"Word\": \"司法制度\"},\n",
       " {\"Score\": 0.22671993, \"Word\": \"社会\"},\n",
       " {\"Score\": 0.22652467, \"Word\": \"代理律师\"},\n",
       " {\"Score\": 0.22636877, \"Word\": \"拥护者\"},\n",
       " {\"Score\": 0.22580647, \"Word\": \"意图\"},\n",
       " {\"Score\": 0.22576708, \"Word\": \"写文章\"},\n",
       " {\"Score\": 0.2250654, \"Word\": \"青岛市\"},\n",
       " {\"Score\": 0.22444597, \"Word\": \"帮助。\\n\\n陈岚\"},\n",
       " {\"Score\": 0.22365361, \"Word\": \"形式\"},\n",
       " {\"Score\": 0.22350678, \"Word\": \"案情\"},\n",
       " {\"Score\": 0.22274436, \"Word\": \"视频\"},\n",
       " {\"Score\": 0.22271481, \"Word\": \"案发现场\"},\n",
       " {\"Score\": 0.22238888, \"Word\": \"连线\"},\n",
       " {\"Score\": 0.22191393, \"Word\": \"网暴\"},\n",
       " {\"Score\": 0.22179806, \"Word\": \"直播间\"},\n",
       " {\"Score\": 0.22150522, \"Word\": \"身心\"},\n",
       " {\"Score\": 0.22143707, \"Word\": \"直播\"},\n",
       " {\"Score\": 0.22018376, \"Word\": \"账号\"},\n",
       " {\"Score\": 0.21993321, \"Word\": \"自导自演\"}]"
      ]
     },
     "execution_count": 26,
     "metadata": {},
     "output_type": "execute_result"
    }
   ],
   "source": [
    "resp = nlu_tool.get_keywords(text)\n",
    "print(resp.Keywords)"
   ]
  },
  {
   "cell_type": "code",
   "execution_count": 31,
   "metadata": {},
   "outputs": [
    {
     "name": "stdout",
     "output_type": "stream",
     "text": [
      "[{\"FirstClassName\": \"文化\", \"SecondClassName\": \"文化\", \"FirstClassProbability\": 1.0, \"SecondClassProbability\": 1.0, \"ThirdClassName\": null, \"ThirdClassProbability\": null, \"FourthClassName\": null, \"FourthClassProbability\": null, \"FifthClassName\": null, \"FifthClassProbability\": null}]\n"
     ]
    }
   ],
   "source": [
    "resp = nlu_tool.get_topic(text)\n",
    "print(resp.Classes)"
   ]
  }
 ],
 "metadata": {
  "interpreter": {
   "hash": "cd495f9cf51c55ca6e0a09c1b63ca3d581a6ff772fd59300e24bb21842a30a9f"
  },
  "kernelspec": {
   "display_name": "Python 3.8.12 ('lora')",
   "language": "python",
   "name": "python3"
  },
  "language_info": {
   "codemirror_mode": {
    "name": "ipython",
    "version": 3
   },
   "file_extension": ".py",
   "mimetype": "text/x-python",
   "name": "python",
   "nbconvert_exporter": "python",
   "pygments_lexer": "ipython3",
   "version": "3.8.12"
  },
  "orig_nbformat": 4
 },
 "nbformat": 4,
 "nbformat_minor": 2
}
